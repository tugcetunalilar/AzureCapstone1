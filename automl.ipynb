{
 "cells": [
  {
   "cell_type": "markdown",
   "metadata": {},
   "source": [
    "# Automated ML\n",
    "\n",
    "TODO: Import Dependencies. In the cell below, import all the dependencies that you will need to complete the project."
   ]
  },
  {
   "cell_type": "code",
   "execution_count": 1,
   "metadata": {
    "gather": {
     "logged": 1612417009140
    },
    "jupyter": {
     "outputs_hidden": false,
     "source_hidden": false
    },
    "nteract": {
     "transient": {
      "deleting": false
     }
    }
   },
   "outputs": [
    {
     "name": "stdout",
     "output_type": "stream",
     "text": [
      "SDK version: 1.20.0\n"
     ]
    }
   ],
   "source": [
    "import logging \n",
    "import os \n",
    "import csv \n",
    "import pickle \n",
    "import requests \n",
    "import json \n",
    "import joblib\n",
    "\n",
    "#from matplotlib import pyplot as plt\n",
    "#import numpy as np\n",
    "import pandas as pd \n",
    "#from sklearn import datasets \n",
    "import pkg_resources\n",
    "from train import clean_data \n",
    "\n",
    "import azureml.core\n",
    "from azureml.core.experiment import Experiment \n",
    "from azureml.core.workspace import Workspace \n",
    "from azureml.train.automl import AutoMLConfig \n",
    "from azureml.core.dataset import Dataset \n",
    "from azureml.widgets import RunDetails \n",
    "from azureml.pipeline.core import PipelineData, TrainingOutput\n",
    "from azureml.pipeline.core import Pipeline \n",
    "from azureml.core.authentication import InteractiveLoginAuthentication \n",
    "from azureml.pipeline.steps import AutoMLStep \n",
    "from azureml.core.compute import AmlCompute \n",
    "from azureml.core.compute import ComputeTarget \n",
    "from azureml.core.compute_target import ComputeTargetException \n",
    "from azureml.core.model import InferenceConfig, Model \n",
    "from azureml.core.webservice import AciWebservice, Webservice \n",
    "from azureml.core.environment import Environment \n",
    "from azureml.core.run import Run \n",
    "\n",
    "#pip install pyarrow>=0.12.0 --upgrade\n",
    "\n",
    "# Check core SDK version number\n",
    "print(\"SDK version:\", azureml.core.VERSION)"
   ]
  },
  {
   "cell_type": "markdown",
   "metadata": {},
   "source": [
    "## Dataset\n",
    "\n",
    "### Overview\n",
    "TODO: In this markdown cell, give an overview of the dataset you are using. Also mention the task you will be performing.\n",
    "\n",
    "### Dataset and task\n",
    "\n",
    "I am using the Titanic-dataset from Kaggle, that has information on the passengers of the Titanic. The data contains information on the passengers' age, siblings, sex, class on board, parch, fare etc. as can be seen below. I utilised the age, information on whether they were alone or with family, sex and fare to predict whether they survived or not. This is a classification task with a binary outcome.\n",
    "\n",
    "\n",
    "TODO: Get data. In the cell below, write code to access the data you will be using in this project. Remember that the dataset needs to be external."
   ]
  },
  {
   "cell_type": "code",
   "execution_count": 2,
   "metadata": {
    "gather": {
     "logged": 1612417024615
    }
   },
   "outputs": [
    {
     "name": "stdout",
     "output_type": "stream",
     "text": [
      "Workspace name: quick-starts-ws-137178\n",
      "Azure region: southcentralus\n",
      "Subscription id: 9b72f9e6-56c5-4c16-991b-19c652994860\n",
      "Resource group: aml-quickstarts-137178\n",
      "Found existing cluster.Using it\n",
      "Succeeded\n",
      "AmlCompute wait for completion finished\n",
      "\n",
      "Minimum number of nodes requested have been provisioned\n"
     ]
    }
   ],
   "source": [
    "ws = Workspace.from_config()\n",
    "ws.write_config(path='.azureml')\n",
    "\n",
    "# choose a name for experiment\n",
    "experiment_name = 'Titanic_project'\n",
    "\n",
    "experiment=Experiment(ws, experiment_name)\n",
    "\n",
    "print('Workspace name: ' + ws.name, \n",
    "      'Azure region: ' + ws.location, \n",
    "      'Subscription id: ' + ws.subscription_id, \n",
    "      'Resource group: ' + ws.resource_group, sep = '\\n')\n",
    "\n",
    "run = experiment.start_logging()\n",
    "\n",
    "amlcompute_cluster_name = \"ML-cluster-uda\"\n",
    "\n",
    "try:\n",
    "      compute_target=ComputeTarget(workspace=ws, name=amlcompute_cluster_name)\n",
    "      print(\"Found existing cluster.Using it\")\n",
    "except ComputeTargetException:\n",
    "      compute_config = AmlCompute.provisioning_configuration(vm_size=\"STANDARD_D2_V2\", max_nodes=4)\n",
    "      compute_target = ComputeTarget.create(ws, amlcompute_cluster_name, compute_config)\n",
    "\n",
    "compute_target.wait_for_completion(show_output = True, min_node_count=1, timeout_in_minutes=10)"
   ]
  },
  {
   "cell_type": "code",
   "execution_count": 3,
   "metadata": {
    "gather": {
     "logged": 1612417042313
    }
   },
   "outputs": [
    {
     "name": "stdout",
     "output_type": "stream",
     "text": [
      "   PassengerId  Pclass  Sex Age  SibSp  Parch     Fare  FamilySize  IsAlone  y\n",
      "0            1       3    0   1      1      0   7.2500           1        0  0\n",
      "1            2       1    1   2      1      0  71.2833           1        0  1\n",
      "2            3       3    1   3      0      0   7.9250           0        1  1\n",
      "3            4       1    1   4      1      0  53.1000           1        0  1\n",
      "4            5       3    0   5      0      0   8.0500           0        1  0\n",
      "       PassengerId      Pclass         Sex       SibSp       Parch  \\\n",
      "count   891.000000  891.000000  891.000000  891.000000  891.000000   \n",
      "mean    446.000000    2.308642    0.352413    0.523008    0.381594   \n",
      "std     257.353842    0.836071    0.477990    1.102743    0.806057   \n",
      "min       1.000000    1.000000    0.000000    0.000000    0.000000   \n",
      "25%     223.500000    2.000000    0.000000    0.000000    0.000000   \n",
      "50%     446.000000    3.000000    0.000000    0.000000    0.000000   \n",
      "75%     668.500000    3.000000    1.000000    1.000000    0.000000   \n",
      "max     891.000000    3.000000    1.000000    8.000000    6.000000   \n",
      "\n",
      "             Fare  FamilySize     IsAlone           y  \n",
      "count  891.000000  891.000000  891.000000  891.000000  \n",
      "mean    32.204208    0.904602    0.602694    0.383838  \n",
      "std     49.693429    1.613459    0.489615    0.486592  \n",
      "min      0.000000    0.000000    0.000000    0.000000  \n",
      "25%      7.910400    0.000000    0.000000    0.000000  \n",
      "50%     14.454200    0.000000    1.000000    0.000000  \n",
      "75%     31.000000    1.000000    1.000000    1.000000  \n",
      "max    512.329200   10.000000    1.000000    1.000000  \n",
      "Uploading an estimated of 1 files\n",
      "Uploading data/prepared.csv\n",
      "Uploaded data/prepared.csv, 1 files out of an estimated total of 1\n",
      "Uploaded 1 files\n"
     ]
    }
   ],
   "source": [
    "found = False\n",
    "key = \"titanic\"\n",
    "description_text = \"Titanic survival classification data from Kaggle\"\n",
    "\n",
    "if key in ws.datasets.keys(): \n",
    "        found = True\n",
    "        data = ws.datasets[key] \n",
    "else :\n",
    "    data = pd.read_csv(\"titanic.csv\")\n",
    "\n",
    "x, y = clean_data(data.to_pandas_dataframe())\n",
    "x['y']=y\n",
    "print(x.head(5))\n",
    "print(x.describe())\n",
    "\n",
    "# turning pandas dataframe to Tabular data\n",
    "data_folder = './data'\n",
    "os.makedirs(data_folder, exist_ok=True)\n",
    "local_path = 'data/prepared.csv'\n",
    "x.to_csv(local_path)\n",
    "\n",
    "datastore = ws.get_default_datastore()\n",
    "datastore.upload(src_dir='data', target_path='data')\n",
    "\n",
    "dataset = Dataset.Tabular.from_delimited_files(path=[(datastore, ('data/prepared.csv'))])"
   ]
  },
  {
   "cell_type": "markdown",
   "metadata": {},
   "source": [
    "## AutoML Configuration\n",
    "\n",
    "TODO: Explain why you chose the automl settings and configuration you used below:\n",
    "The settings I chose were designed to combine accuracy with also an idea of sparing resources. I chose a timeout of 20 minutes to make sure my experiments did not last too long. I chose the max concurrent iterations to 5 to limit the resources my experiments took. I chose the primary metric accuracy, because I could make it work for both automl and hyperdrive in the time I had. A better option would have been AUC. My task was a classification task. Early stopping as True is designed to save resources."
   ]
  },
  {
   "cell_type": "code",
   "execution_count": 4,
   "metadata": {
    "gather": {
     "logged": 1612417046858
    },
    "jupyter": {
     "outputs_hidden": false,
     "source_hidden": false
    },
    "nteract": {
     "transient": {
      "deleting": false
     }
    }
   },
   "outputs": [],
   "source": [
    "# TODO: Put your automl settings here\n",
    "automl_settings = {\n",
    "    \"experiment_timeout_minutes\": 20,\n",
    "    \"max_concurrent_iterations\": 5,\n",
    "    \"primary_metric\" : 'accuracy'\n",
    "}\n",
    "\n",
    "# TODO: Put your automl config here\n",
    "automl_config = AutoMLConfig(compute_target=compute_target,\n",
    "                             task = \"classification\",\n",
    "                             training_data=dataset,\n",
    "                             label_column_name=\"y\",   \n",
    "                             path = \"./data\",\n",
    "                             enable_early_stopping= True,\n",
    "                             featurization= 'auto',\n",
    "                             debug_log = \"automl_errors.log\",\n",
    "                             n_cross_validations=5,\n",
    "                             **automl_settings\n",
    "                            )\n"
   ]
  },
  {
   "cell_type": "code",
   "execution_count": 5,
   "metadata": {
    "gather": {
     "logged": 1612418404061
    },
    "jupyter": {
     "outputs_hidden": false,
     "source_hidden": false
    },
    "nteract": {
     "transient": {
      "deleting": false
     }
    }
   },
   "outputs": [
    {
     "name": "stdout",
     "output_type": "stream",
     "text": [
      "Running on remote.\n",
      "No run_configuration provided, running on ML-cluster-uda with default configuration\n",
      "Running on remote compute: ML-cluster-uda\n",
      "Parent Run ID: AutoML_fa353ffa-1586-4468-9f9f-9cd78f2e9a1f\n",
      "\n",
      "Current status: FeaturesGeneration. Generating features for the dataset.\n",
      "Current status: DatasetCrossValidationSplit. Generating individually featurized CV splits.\n",
      "Current status: ModelSelection. Beginning model selection.\n",
      "\n",
      "****************************************************************************************************\n",
      "DATA GUARDRAILS: \n",
      "\n",
      "TYPE:         Class balancing detection\n",
      "STATUS:       PASSED\n",
      "DESCRIPTION:  Your inputs were analyzed, and all classes are balanced in your training data.\n",
      "              Learn more about imbalanced data: https://aka.ms/AutomatedMLImbalancedData\n",
      "\n",
      "****************************************************************************************************\n",
      "\n",
      "TYPE:         Missing feature values imputation\n",
      "STATUS:       PASSED\n",
      "DESCRIPTION:  No feature missing values were detected in the training data.\n",
      "              Learn more about missing value imputation: https://aka.ms/AutomatedMLFeaturization\n",
      "\n",
      "****************************************************************************************************\n",
      "\n",
      "TYPE:         High cardinality feature detection\n",
      "STATUS:       PASSED\n",
      "DESCRIPTION:  Your inputs were analyzed, and no high cardinality features were detected.\n",
      "              Learn more about high cardinality feature handling: https://aka.ms/AutomatedMLFeaturization\n",
      "\n",
      "****************************************************************************************************\n",
      "\n",
      "****************************************************************************************************\n",
      "ITERATION: The iteration being evaluated.\n",
      "PIPELINE: A summary description of the pipeline being evaluated.\n",
      "DURATION: Time taken for the current iteration.\n",
      "METRIC: The result of computing score on the fitted pipeline.\n",
      "BEST: The best observed score thus far.\n",
      "****************************************************************************************************\n",
      "\n",
      " ITERATION   PIPELINE                                       DURATION      METRIC      BEST\n",
      "         2   MaxAbsScaler RandomForest                      0:01:00       0.7845    0.7845\n",
      "         0   MaxAbsScaler LightGBM                          0:00:58       0.7856    0.7856\n",
      "         1   MaxAbsScaler XGBoostClassifier                 0:00:54       0.8013    0.8013\n",
      "         6   MaxAbsScaler RandomForest                      0:00:57       0.7182    0.8013\n",
      "         7   StandardScalerWrapper XGBoostClassifier        0:00:58       0.7912    0.8013\n",
      "         5   MaxAbsScaler RandomForest                      0:03:20       0.7621    0.8013\n",
      "         4   MaxAbsScaler RandomForest                      0:03:31       0.7823    0.8013\n",
      "         8   SparseNormalizer XGBoostClassifier             0:00:54       0.7778    0.8013\n",
      "         3   MaxAbsScaler RandomForest                      0:03:47       0.7665    0.8013\n",
      "         9   MaxAbsScaler LogisticRegression                0:00:58       0.7912    0.8013\n",
      "        10   SparseNormalizer XGBoostClassifier             0:01:00       0.7789    0.8013\n",
      "        11   SparseNormalizer XGBoostClassifier             0:00:55       0.7800    0.8013\n",
      "        12   StandardScalerWrapper LightGBM                 0:01:21       0.7867    0.8013\n",
      "        13   MaxAbsScaler ExtremeRandomTrees                0:01:02       0.7744    0.8013\n",
      "        14   SparseNormalizer LightGBM                      0:00:57       0.7811    0.8013\n",
      "        15   MaxAbsScaler ExtremeRandomTrees                0:00:57       0.7979    0.8013\n",
      "        16   MaxAbsScaler RandomForest                      0:01:06       0.7755    0.8013\n",
      "        17   StandardScalerWrapper LightGBM                 0:00:59       0.7800    0.8013\n",
      "        18   MaxAbsScaler LightGBM                          0:00:51       0.7822    0.8013\n",
      "        19   StandardScalerWrapper ExtremeRandomTrees       0:01:01       0.7979    0.8013\n",
      "        20   SparseNormalizer LightGBM                      0:00:53       0.7722    0.8013\n",
      "        21   StandardScalerWrapper LightGBM                 0:00:50       0.7183    0.8013\n",
      "        22   SparseNormalizer XGBoostClassifier             0:00:49       0.7800    0.8013\n",
      "        23   SparseNormalizer XGBoostClassifier             0:00:57       0.7935    0.8013\n",
      "        24   StandardScalerWrapper XGBoostClassifier        0:00:54       0.8024    0.8024\n",
      "        25   TruncatedSVDWrapper XGBoostClassifier          0:00:53       0.6162    0.8024\n",
      "        26   StandardScalerWrapper RandomForest             0:00:49       0.7901    0.8024\n",
      "        27   MaxAbsScaler LightGBM                          0:00:59       0.7878    0.8024\n",
      "        28   MaxAbsScaler LightGBM                          0:00:58       0.7306    0.8024\n",
      "        30   SparseNormalizer XGBoostClassifier             0:00:48       0.7755    0.8024\n",
      "        29   StandardScalerWrapper LightGBM                 0:00:58       0.7946    0.8024\n",
      "        31   SparseNormalizer XGBoostClassifier             0:00:52       0.7744    0.8024\n",
      "        32   SparseNormalizer XGBoostClassifier             0:00:57       0.7789    0.8024\n",
      "        33   SparseNormalizer RandomForest                  0:00:52       0.7722    0.8024\n",
      "        34   StandardScalerWrapper ExtremeRandomTrees       0:00:55       0.7755    0.8024\n",
      "        35   SparseNormalizer XGBoostClassifier             0:00:57       0.7924    0.8024\n",
      "        36   MaxAbsScaler LogisticRegression                0:00:56       0.7912    0.8024\n",
      "        37   MaxAbsScaler RandomForest                      0:00:58       0.7598    0.8024\n",
      "        38   MaxAbsScaler RandomForest                      0:00:51       0.8013    0.8024\n",
      "        39   StandardScalerWrapper XGBoostClassifier        0:00:45       0.7721    0.8024\n",
      "        40                                                  0:00:25          nan    0.8024\n",
      "        41                                                  0:00:08          nan    0.8024\n",
      "        42                                                  0:00:17          nan    0.8024\n",
      "        43    VotingEnsemble                                0:01:43       0.8170    0.8170\n",
      "        44    StackEnsemble                                 0:01:44       0.8047    0.8170\n"
     ]
    }
   ],
   "source": [
    "# TODO: Submit your experiment\n",
    "remote_run = experiment.submit(automl_config, show_output=True)"
   ]
  },
  {
   "cell_type": "markdown",
   "metadata": {},
   "source": [
    "## Run Details\n",
    "\n",
    "OPTIONAL: Write about the different models trained and their performance. Why do you think some models did better than others?\n",
    "\n",
    "All the models received fairly similar results. The lowest accuracy was 0,6162 with run 25 utilising truncated SVCWrapper with XGBoostClassifier. Otherwise the models were fairly close to each other in accuracy. The VotingEnsemble often receives the best outcomes due to its ability to combine several different models and then they vote on the outcome therefore negating the possibly misleading results of any individual model.\n",
    "\n",
    "TODO: In the cell below, use the `RunDetails` widget to show the different experiments."
   ]
  },
  {
   "cell_type": "code",
   "execution_count": 6,
   "metadata": {
    "gather": {
     "logged": 1612418404224
    },
    "jupyter": {
     "outputs_hidden": false,
     "source_hidden": false
    },
    "nteract": {
     "transient": {
      "deleting": false
     }
    }
   },
   "outputs": [
    {
     "data": {
      "application/vnd.jupyter.widget-view+json": {
       "model_id": "2aaf0795be8243e9a885c002a7d06b9a",
       "version_major": 2,
       "version_minor": 0
      },
      "text/plain": [
       "_AutoMLWidget(widget_settings={'childWidgetDisplay': 'popup', 'send_telemetry': False, 'log_level': 'INFO', 's…"
      ]
     },
     "metadata": {},
     "output_type": "display_data"
    },
    {
     "data": {
      "application/aml.mini.widget.v1": "{\"status\": \"Completed\", \"workbench_run_details_uri\": \"https://ml.azure.com/experiments/Titanic_project/runs/AutoML_fa353ffa-1586-4468-9f9f-9cd78f2e9a1f?wsid=/subscriptions/9b72f9e6-56c5-4c16-991b-19c652994860/resourcegroups/aml-quickstarts-137178/workspaces/quick-starts-ws-137178\", \"run_id\": \"AutoML_fa353ffa-1586-4468-9f9f-9cd78f2e9a1f\", \"run_properties\": {\"run_id\": \"AutoML_fa353ffa-1586-4468-9f9f-9cd78f2e9a1f\", \"created_utc\": \"2021-02-04T05:37:37.604333Z\", \"properties\": {\"num_iterations\": \"1000\", \"training_type\": \"TrainFull\", \"acquisition_function\": \"EI\", \"primary_metric\": \"accuracy\", \"train_split\": \"0\", \"acquisition_parameter\": \"0\", \"num_cross_validation\": \"5\", \"target\": \"ML-cluster-uda\", \"AMLSettingsJsonString\": \"{\\\"path\\\":null,\\\"name\\\":\\\"Titanic_project\\\",\\\"subscription_id\\\":\\\"9b72f9e6-56c5-4c16-991b-19c652994860\\\",\\\"resource_group\\\":\\\"aml-quickstarts-137178\\\",\\\"workspace_name\\\":\\\"quick-starts-ws-137178\\\",\\\"region\\\":\\\"southcentralus\\\",\\\"compute_target\\\":\\\"ML-cluster-uda\\\",\\\"spark_service\\\":null,\\\"azure_service\\\":\\\"remote\\\",\\\"many_models\\\":false,\\\"pipeline_fetch_max_batch_size\\\":1,\\\"iterations\\\":1000,\\\"primary_metric\\\":\\\"accuracy\\\",\\\"task_type\\\":\\\"classification\\\",\\\"data_script\\\":null,\\\"validation_size\\\":0.0,\\\"n_cross_validations\\\":5,\\\"y_min\\\":null,\\\"y_max\\\":null,\\\"num_classes\\\":null,\\\"featurization\\\":\\\"auto\\\",\\\"_ignore_package_version_incompatibilities\\\":false,\\\"is_timeseries\\\":false,\\\"max_cores_per_iteration\\\":1,\\\"max_concurrent_iterations\\\":5,\\\"iteration_timeout_minutes\\\":null,\\\"mem_in_mb\\\":null,\\\"enforce_time_on_windows\\\":false,\\\"experiment_timeout_minutes\\\":20,\\\"experiment_exit_score\\\":null,\\\"whitelist_models\\\":null,\\\"blacklist_algos\\\":[\\\"TensorFlowLinearClassifier\\\",\\\"TensorFlowDNN\\\"],\\\"supported_models\\\":[\\\"AveragedPerceptronClassifier\\\",\\\"SGD\\\",\\\"ExtremeRandomTrees\\\",\\\"LightGBM\\\",\\\"XGBoostClassifier\\\",\\\"GradientBoosting\\\",\\\"RandomForest\\\",\\\"TensorFlowLinearClassifier\\\",\\\"LinearSVM\\\",\\\"LogisticRegression\\\",\\\"DecisionTree\\\",\\\"BernoulliNaiveBayes\\\",\\\"SVM\\\",\\\"TensorFlowDNN\\\",\\\"MultinomialNaiveBayes\\\",\\\"KNN\\\"],\\\"auto_blacklist\\\":true,\\\"blacklist_samples_reached\\\":false,\\\"exclude_nan_labels\\\":true,\\\"verbosity\\\":20,\\\"_debug_log\\\":\\\"azureml_automl.log\\\",\\\"show_warnings\\\":false,\\\"model_explainability\\\":true,\\\"service_url\\\":null,\\\"sdk_url\\\":null,\\\"sdk_packages\\\":null,\\\"enable_onnx_compatible_models\\\":false,\\\"enable_split_onnx_featurizer_estimator_models\\\":false,\\\"vm_type\\\":\\\"STANDARD_D2_V2\\\",\\\"telemetry_verbosity\\\":20,\\\"send_telemetry\\\":true,\\\"enable_dnn\\\":false,\\\"scenario\\\":\\\"SDK-1.13.0\\\",\\\"environment_label\\\":null,\\\"force_text_dnn\\\":false,\\\"enable_feature_sweeping\\\":true,\\\"enable_early_stopping\\\":true,\\\"early_stopping_n_iters\\\":10,\\\"metrics\\\":null,\\\"enable_ensembling\\\":true,\\\"enable_stack_ensembling\\\":true,\\\"ensemble_iterations\\\":15,\\\"enable_tf\\\":false,\\\"enable_subsampling\\\":null,\\\"subsample_seed\\\":null,\\\"enable_nimbusml\\\":false,\\\"enable_streaming\\\":false,\\\"force_streaming\\\":false,\\\"track_child_runs\\\":true,\\\"allowed_private_models\\\":[],\\\"label_column_name\\\":\\\"y\\\",\\\"weight_column_name\\\":null,\\\"cv_split_column_names\\\":null,\\\"enable_local_managed\\\":false,\\\"_local_managed_run_id\\\":null,\\\"cost_mode\\\":1,\\\"lag_length\\\":0,\\\"metric_operation\\\":\\\"maximize\\\",\\\"preprocess\\\":true}\", \"DataPrepJsonString\": \"{\\\\\\\"training_data\\\\\\\": \\\\\\\"{\\\\\\\\\\\\\\\"blocks\\\\\\\\\\\\\\\": [{\\\\\\\\\\\\\\\"id\\\\\\\\\\\\\\\": \\\\\\\\\\\\\\\"41a17ee7-d35a-42c9-b2c0-8e7302f20c1b\\\\\\\\\\\\\\\", \\\\\\\\\\\\\\\"type\\\\\\\\\\\\\\\": \\\\\\\\\\\\\\\"Microsoft.DPrep.GetDatastoreFilesBlock\\\\\\\\\\\\\\\", \\\\\\\\\\\\\\\"arguments\\\\\\\\\\\\\\\": {\\\\\\\\\\\\\\\"datastores\\\\\\\\\\\\\\\": [{\\\\\\\\\\\\\\\"datastoreName\\\\\\\\\\\\\\\": \\\\\\\\\\\\\\\"workspaceblobstore\\\\\\\\\\\\\\\", \\\\\\\\\\\\\\\"path\\\\\\\\\\\\\\\": \\\\\\\\\\\\\\\"data/prepared.csv\\\\\\\\\\\\\\\", \\\\\\\\\\\\\\\"resourceGroup\\\\\\\\\\\\\\\": \\\\\\\\\\\\\\\"aml-quickstarts-137178\\\\\\\\\\\\\\\", \\\\\\\\\\\\\\\"subscription\\\\\\\\\\\\\\\": \\\\\\\\\\\\\\\"9b72f9e6-56c5-4c16-991b-19c652994860\\\\\\\\\\\\\\\", \\\\\\\\\\\\\\\"workspaceName\\\\\\\\\\\\\\\": \\\\\\\\\\\\\\\"quick-starts-ws-137178\\\\\\\\\\\\\\\"}]}, \\\\\\\\\\\\\\\"localData\\\\\\\\\\\\\\\": {}, \\\\\\\\\\\\\\\"isEnabled\\\\\\\\\\\\\\\": true, \\\\\\\\\\\\\\\"name\\\\\\\\\\\\\\\": null, \\\\\\\\\\\\\\\"annotation\\\\\\\\\\\\\\\": null}, {\\\\\\\\\\\\\\\"id\\\\\\\\\\\\\\\": \\\\\\\\\\\\\\\"6e50ff94-7c90-4512-84aa-e18472b4c0a4\\\\\\\\\\\\\\\", \\\\\\\\\\\\\\\"type\\\\\\\\\\\\\\\": \\\\\\\\\\\\\\\"Microsoft.DPrep.ParseDelimitedBlock\\\\\\\\\\\\\\\", \\\\\\\\\\\\\\\"arguments\\\\\\\\\\\\\\\": {\\\\\\\\\\\\\\\"columnHeadersMode\\\\\\\\\\\\\\\": 3, \\\\\\\\\\\\\\\"fileEncoding\\\\\\\\\\\\\\\": 0, \\\\\\\\\\\\\\\"handleQuotedLineBreaks\\\\\\\\\\\\\\\": false, \\\\\\\\\\\\\\\"preview\\\\\\\\\\\\\\\": false, \\\\\\\\\\\\\\\"separator\\\\\\\\\\\\\\\": \\\\\\\\\\\\\\\",\\\\\\\\\\\\\\\", \\\\\\\\\\\\\\\"skipRows\\\\\\\\\\\\\\\": 0, \\\\\\\\\\\\\\\"skipRowsMode\\\\\\\\\\\\\\\": 0}, \\\\\\\\\\\\\\\"localData\\\\\\\\\\\\\\\": {}, \\\\\\\\\\\\\\\"isEnabled\\\\\\\\\\\\\\\": true, \\\\\\\\\\\\\\\"name\\\\\\\\\\\\\\\": null, \\\\\\\\\\\\\\\"annotation\\\\\\\\\\\\\\\": null}, {\\\\\\\\\\\\\\\"id\\\\\\\\\\\\\\\": \\\\\\\\\\\\\\\"fe9e2bd1-ff53-4fe2-af8d-55ea0504e967\\\\\\\\\\\\\\\", \\\\\\\\\\\\\\\"type\\\\\\\\\\\\\\\": \\\\\\\\\\\\\\\"Microsoft.DPrep.DropColumnsBlock\\\\\\\\\\\\\\\", \\\\\\\\\\\\\\\"arguments\\\\\\\\\\\\\\\": {\\\\\\\\\\\\\\\"columns\\\\\\\\\\\\\\\": {\\\\\\\\\\\\\\\"type\\\\\\\\\\\\\\\": 0, \\\\\\\\\\\\\\\"details\\\\\\\\\\\\\\\": {\\\\\\\\\\\\\\\"selectedColumns\\\\\\\\\\\\\\\": [\\\\\\\\\\\\\\\"Path\\\\\\\\\\\\\\\"]}}}, \\\\\\\\\\\\\\\"localData\\\\\\\\\\\\\\\": {}, \\\\\\\\\\\\\\\"isEnabled\\\\\\\\\\\\\\\": true, \\\\\\\\\\\\\\\"name\\\\\\\\\\\\\\\": null, \\\\\\\\\\\\\\\"annotation\\\\\\\\\\\\\\\": null}, {\\\\\\\\\\\\\\\"id\\\\\\\\\\\\\\\": \\\\\\\\\\\\\\\"c025f168-36fa-4a84-af92-a11159342a5c\\\\\\\\\\\\\\\", \\\\\\\\\\\\\\\"type\\\\\\\\\\\\\\\": \\\\\\\\\\\\\\\"Microsoft.DPrep.SetColumnTypesBlock\\\\\\\\\\\\\\\", \\\\\\\\\\\\\\\"arguments\\\\\\\\\\\\\\\": {\\\\\\\\\\\\\\\"columnConversion\\\\\\\\\\\\\\\": [{\\\\\\\\\\\\\\\"column\\\\\\\\\\\\\\\": {\\\\\\\\\\\\\\\"type\\\\\\\\\\\\\\\": 2, \\\\\\\\\\\\\\\"details\\\\\\\\\\\\\\\": {\\\\\\\\\\\\\\\"selectedColumn\\\\\\\\\\\\\\\": \\\\\\\\\\\\\\\"Column1\\\\\\\\\\\\\\\"}}, \\\\\\\\\\\\\\\"typeProperty\\\\\\\\\\\\\\\": 2}, {\\\\\\\\\\\\\\\"column\\\\\\\\\\\\\\\": {\\\\\\\\\\\\\\\"type\\\\\\\\\\\\\\\": 2, \\\\\\\\\\\\\\\"details\\\\\\\\\\\\\\\": {\\\\\\\\\\\\\\\"selectedColumn\\\\\\\\\\\\\\\": \\\\\\\\\\\\\\\"PassengerId\\\\\\\\\\\\\\\"}}, \\\\\\\\\\\\\\\"typeProperty\\\\\\\\\\\\\\\": 2}, {\\\\\\\\\\\\\\\"column\\\\\\\\\\\\\\\": {\\\\\\\\\\\\\\\"type\\\\\\\\\\\\\\\": 2, \\\\\\\\\\\\\\\"details\\\\\\\\\\\\\\\": {\\\\\\\\\\\\\\\"selectedColumn\\\\\\\\\\\\\\\": \\\\\\\\\\\\\\\"Pclass\\\\\\\\\\\\\\\"}}, \\\\\\\\\\\\\\\"typeProperty\\\\\\\\\\\\\\\": 2}, {\\\\\\\\\\\\\\\"column\\\\\\\\\\\\\\\": {\\\\\\\\\\\\\\\"type\\\\\\\\\\\\\\\": 2, \\\\\\\\\\\\\\\"details\\\\\\\\\\\\\\\": {\\\\\\\\\\\\\\\"selectedColumn\\\\\\\\\\\\\\\": \\\\\\\\\\\\\\\"Sex\\\\\\\\\\\\\\\"}}, \\\\\\\\\\\\\\\"typeProperty\\\\\\\\\\\\\\\": 2}, {\\\\\\\\\\\\\\\"column\\\\\\\\\\\\\\\": {\\\\\\\\\\\\\\\"type\\\\\\\\\\\\\\\": 2, \\\\\\\\\\\\\\\"details\\\\\\\\\\\\\\\": {\\\\\\\\\\\\\\\"selectedColumn\\\\\\\\\\\\\\\": \\\\\\\\\\\\\\\"Age\\\\\\\\\\\\\\\"}}, \\\\\\\\\\\\\\\"typeProperty\\\\\\\\\\\\\\\": 2}, {\\\\\\\\\\\\\\\"column\\\\\\\\\\\\\\\": {\\\\\\\\\\\\\\\"type\\\\\\\\\\\\\\\": 2, \\\\\\\\\\\\\\\"details\\\\\\\\\\\\\\\": {\\\\\\\\\\\\\\\"selectedColumn\\\\\\\\\\\\\\\": \\\\\\\\\\\\\\\"SibSp\\\\\\\\\\\\\\\"}}, \\\\\\\\\\\\\\\"typeProperty\\\\\\\\\\\\\\\": 2}, {\\\\\\\\\\\\\\\"column\\\\\\\\\\\\\\\": {\\\\\\\\\\\\\\\"type\\\\\\\\\\\\\\\": 2, \\\\\\\\\\\\\\\"details\\\\\\\\\\\\\\\": {\\\\\\\\\\\\\\\"selectedColumn\\\\\\\\\\\\\\\": \\\\\\\\\\\\\\\"Parch\\\\\\\\\\\\\\\"}}, \\\\\\\\\\\\\\\"typeProperty\\\\\\\\\\\\\\\": 2}, {\\\\\\\\\\\\\\\"column\\\\\\\\\\\\\\\": {\\\\\\\\\\\\\\\"type\\\\\\\\\\\\\\\": 2, \\\\\\\\\\\\\\\"details\\\\\\\\\\\\\\\": {\\\\\\\\\\\\\\\"selectedColumn\\\\\\\\\\\\\\\": \\\\\\\\\\\\\\\"Fare\\\\\\\\\\\\\\\"}}, \\\\\\\\\\\\\\\"typeProperty\\\\\\\\\\\\\\\": 3}, {\\\\\\\\\\\\\\\"column\\\\\\\\\\\\\\\": {\\\\\\\\\\\\\\\"type\\\\\\\\\\\\\\\": 2, \\\\\\\\\\\\\\\"details\\\\\\\\\\\\\\\": {\\\\\\\\\\\\\\\"selectedColumn\\\\\\\\\\\\\\\": \\\\\\\\\\\\\\\"FamilySize\\\\\\\\\\\\\\\"}}, \\\\\\\\\\\\\\\"typeProperty\\\\\\\\\\\\\\\": 2}, {\\\\\\\\\\\\\\\"column\\\\\\\\\\\\\\\": {\\\\\\\\\\\\\\\"type\\\\\\\\\\\\\\\": 2, \\\\\\\\\\\\\\\"details\\\\\\\\\\\\\\\": {\\\\\\\\\\\\\\\"selectedColumn\\\\\\\\\\\\\\\": \\\\\\\\\\\\\\\"IsAlone\\\\\\\\\\\\\\\"}}, \\\\\\\\\\\\\\\"typeProperty\\\\\\\\\\\\\\\": 2}, {\\\\\\\\\\\\\\\"column\\\\\\\\\\\\\\\": {\\\\\\\\\\\\\\\"type\\\\\\\\\\\\\\\": 2, \\\\\\\\\\\\\\\"details\\\\\\\\\\\\\\\": {\\\\\\\\\\\\\\\"selectedColumn\\\\\\\\\\\\\\\": \\\\\\\\\\\\\\\"y\\\\\\\\\\\\\\\"}}, \\\\\\\\\\\\\\\"typeProperty\\\\\\\\\\\\\\\": 2}]}, \\\\\\\\\\\\\\\"localData\\\\\\\\\\\\\\\": {}, \\\\\\\\\\\\\\\"isEnabled\\\\\\\\\\\\\\\": true, \\\\\\\\\\\\\\\"name\\\\\\\\\\\\\\\": null, \\\\\\\\\\\\\\\"annotation\\\\\\\\\\\\\\\": null}], \\\\\\\\\\\\\\\"inspectors\\\\\\\\\\\\\\\": [], \\\\\\\\\\\\\\\"meta\\\\\\\\\\\\\\\": {\\\\\\\\\\\\\\\"savedDatasetId\\\\\\\\\\\\\\\": \\\\\\\\\\\\\\\"96f69098-2298-4d48-8b70-9d6ac8b3fb3e\\\\\\\\\\\\\\\", \\\\\\\\\\\\\\\"datasetType\\\\\\\\\\\\\\\": \\\\\\\\\\\\\\\"tabular\\\\\\\\\\\\\\\", \\\\\\\\\\\\\\\"subscriptionId\\\\\\\\\\\\\\\": \\\\\\\\\\\\\\\"9b72f9e6-56c5-4c16-991b-19c652994860\\\\\\\\\\\\\\\", \\\\\\\\\\\\\\\"workspaceId\\\\\\\\\\\\\\\": \\\\\\\\\\\\\\\"58dc5ee7-77f1-4741-b4d3-a90a2b9f6f5b\\\\\\\\\\\\\\\", \\\\\\\\\\\\\\\"workspaceLocation\\\\\\\\\\\\\\\": \\\\\\\\\\\\\\\"southcentralus\\\\\\\\\\\\\\\"}}\\\\\\\", \\\\\\\"activities\\\\\\\": 0}\", \"EnableSubsampling\": null, \"runTemplate\": \"AutoML\", \"azureml.runsource\": \"automl\", \"display_task_type\": \"classification\", \"dependencies_versions\": \"{\\\"azureml-widgets\\\": \\\"1.20.0\\\", \\\"azureml-train\\\": \\\"1.20.0\\\", \\\"azureml-train-restclients-hyperdrive\\\": \\\"1.20.0\\\", \\\"azureml-train-core\\\": \\\"1.20.0\\\", \\\"azureml-train-automl\\\": \\\"1.20.0\\\", \\\"azureml-train-automl-runtime\\\": \\\"1.20.0\\\", \\\"azureml-train-automl-client\\\": \\\"1.20.0\\\", \\\"azureml-tensorboard\\\": \\\"1.20.0\\\", \\\"azureml-telemetry\\\": \\\"1.20.0\\\", \\\"azureml-sdk\\\": \\\"1.20.0\\\", \\\"azureml-samples\\\": \\\"0+unknown\\\", \\\"azureml-pipeline\\\": \\\"1.20.0\\\", \\\"azureml-pipeline-steps\\\": \\\"1.20.0\\\", \\\"azureml-pipeline-core\\\": \\\"1.20.0\\\", \\\"azureml-opendatasets\\\": \\\"1.20.0\\\", \\\"azureml-model-management-sdk\\\": \\\"1.0.1b6.post1\\\", \\\"azureml-mlflow\\\": \\\"1.20.0.post1\\\", \\\"azureml-interpret\\\": \\\"1.20.0\\\", \\\"azureml-explain-model\\\": \\\"1.20.0\\\", \\\"azureml-defaults\\\": \\\"1.20.0\\\", \\\"azureml-dataset-runtime\\\": \\\"1.20.0\\\", \\\"azureml-dataprep\\\": \\\"2.7.3\\\", \\\"azureml-dataprep-rslex\\\": \\\"1.5.0\\\", \\\"azureml-dataprep-native\\\": \\\"27.0.0\\\", \\\"azureml-datadrift\\\": \\\"1.20.0\\\", \\\"azureml-core\\\": \\\"1.20.0\\\", \\\"azureml-contrib-services\\\": \\\"1.20.0\\\", \\\"azureml-contrib-server\\\": \\\"1.20.0\\\", \\\"azureml-contrib-reinforcementlearning\\\": \\\"1.20.0\\\", \\\"azureml-contrib-pipeline-steps\\\": \\\"1.20.0\\\", \\\"azureml-contrib-notebook\\\": \\\"1.20.0\\\", \\\"azureml-contrib-interpret\\\": \\\"1.20.0\\\", \\\"azureml-contrib-gbdt\\\": \\\"1.20.0\\\", \\\"azureml-contrib-fairness\\\": \\\"1.20.0\\\", \\\"azureml-contrib-dataset\\\": \\\"1.20.0\\\", \\\"azureml-cli-common\\\": \\\"1.20.0\\\", \\\"azureml-automl-runtime\\\": \\\"1.20.0\\\", \\\"azureml-automl-core\\\": \\\"1.20.0\\\", \\\"azureml-accel-models\\\": \\\"1.20.0\\\"}\", \"_aml_system_scenario_identification\": \"Remote.Parent\", \"ClientType\": \"SDK\", \"environment_cpu_name\": \"AzureML-AutoML\", \"environment_cpu_label\": \"prod\", \"environment_gpu_name\": \"AzureML-AutoML-GPU\", \"environment_gpu_label\": \"prod\", \"root_attribution\": \"automl\", \"attribution\": \"AutoML\", \"Orchestrator\": \"AutoML\", \"CancelUri\": \"https://southcentralus.experiments.azureml.net/jasmine/v1.0/subscriptions/9b72f9e6-56c5-4c16-991b-19c652994860/resourceGroups/aml-quickstarts-137178/providers/Microsoft.MachineLearningServices/workspaces/quick-starts-ws-137178/experimentids/f8df3203-38f9-4817-a0d8-ec89dc9f2559/cancel/AutoML_fa353ffa-1586-4468-9f9f-9cd78f2e9a1f\", \"ClientSdkVersion\": \"1.21.0\", \"snapshotId\": \"00000000-0000-0000-0000-000000000000\", \"SetupRunId\": \"AutoML_fa353ffa-1586-4468-9f9f-9cd78f2e9a1f_setup\", \"SetupRunContainerId\": \"dcid.AutoML_fa353ffa-1586-4468-9f9f-9cd78f2e9a1f_setup\", \"FeaturizationRunJsonPath\": \"featurizer_container.json\", \"FeaturizationRunId\": \"AutoML_fa353ffa-1586-4468-9f9f-9cd78f2e9a1f_featurize\", \"ProblemInfoJsonString\": \"{\\\"dataset_num_categorical\\\": 0, \\\"is_sparse\\\": true, \\\"subsampling\\\": false, \\\"dataset_classes\\\": 2, \\\"dataset_features\\\": 32, \\\"dataset_samples\\\": 891, \\\"single_frequency_class_detected\\\": false}\", \"ModelExplainRunId\": \"AutoML_fa353ffa-1586-4468-9f9f-9cd78f2e9a1f_ModelExplain\"}, \"tags\": {\"model_explain_run\": \"best_run\", \"_aml_system_azureml.automlComponent\": \"AutoML\", \"pipeline_id\": \"\", \"score\": \"\", \"predicted_cost\": \"\", \"fit_time\": \"\", \"training_percent\": \"\", \"iteration\": \"\", \"run_preprocessor\": \"\", \"run_algorithm\": \"\", \"dynamic_whitelisting_iterations\": \"<25>;<30>;<35>;<40>;\", \"automl_best_child_run_id\": \"AutoML_fa353ffa-1586-4468-9f9f-9cd78f2e9a1f_43\", \"model_explain_best_run_child_id\": \"AutoML_fa353ffa-1586-4468-9f9f-9cd78f2e9a1f_43\"}, \"end_time_utc\": \"2021-02-04T05:59:47.501059Z\", \"status\": \"Completed\", \"log_files\": {}, \"log_groups\": [], \"run_duration\": \"0:22:09\"}, \"child_runs\": [{\"run_id\": \"AutoML_fa353ffa-1586-4468-9f9f-9cd78f2e9a1f_0\", \"run_number\": 59, \"metric\": null, \"status\": \"Completed\", \"run_type\": \"azureml.scriptrun\", \"training_percent\": \"100\", \"start_time\": \"2021-02-04T05:44:24.24589Z\", \"end_time\": \"2021-02-04T05:45:21.860095Z\", \"created_time\": \"2021-02-04T05:43:09.621287Z\", \"created_time_dt\": \"2021-02-04T05:43:09.621287Z\", \"duration\": \"0:02:12\", \"iteration\": \"0\", \"goal\": \"accuracy_max\", \"run_name\": \"MaxAbsScaler, LightGBM\", \"run_properties\": \"copy=True\", \"primary_metric\": 0.7856004, \"best_metric\": 0.7856004}, {\"run_id\": \"AutoML_fa353ffa-1586-4468-9f9f-9cd78f2e9a1f_1\", \"run_number\": 60, \"metric\": null, \"status\": \"Completed\", \"run_type\": \"azureml.scriptrun\", \"training_percent\": \"100\", \"start_time\": \"2021-02-04T05:45:25.98336Z\", \"end_time\": \"2021-02-04T05:46:20.219717Z\", \"created_time\": \"2021-02-04T05:43:09.741263Z\", \"created_time_dt\": \"2021-02-04T05:43:09.741263Z\", \"duration\": \"0:03:10\", \"iteration\": \"1\", \"goal\": \"accuracy_max\", \"run_name\": \"MaxAbsScaler, XGBoostClassifier\", \"run_properties\": \"copy=True\", \"primary_metric\": 0.80132446, \"best_metric\": 0.80132446}, {\"run_id\": \"AutoML_fa353ffa-1586-4468-9f9f-9cd78f2e9a1f_3\", \"run_number\": 61, \"metric\": null, \"status\": \"Completed\", \"run_type\": \"azureml.scriptrun\", \"training_percent\": \"100\", \"start_time\": \"2021-02-04T05:45:43.567235Z\", \"end_time\": \"2021-02-04T05:49:30.413004Z\", \"created_time\": \"2021-02-04T05:43:09.756613Z\", \"created_time_dt\": \"2021-02-04T05:43:09.756613Z\", \"duration\": \"0:06:20\", \"iteration\": \"3\", \"goal\": \"accuracy_max\", \"run_name\": \"MaxAbsScaler, RandomForest\", \"run_properties\": \"copy=True\", \"primary_metric\": 0.76650556, \"best_metric\": 0.80132446}, {\"run_id\": \"AutoML_fa353ffa-1586-4468-9f9f-9cd78f2e9a1f_2\", \"run_number\": 62, \"metric\": null, \"status\": \"Completed\", \"run_type\": \"azureml.scriptrun\", \"training_percent\": \"100\", \"start_time\": \"2021-02-04T05:43:20.832739Z\", \"end_time\": \"2021-02-04T05:44:21.196789Z\", \"created_time\": \"2021-02-04T05:43:09.779383Z\", \"created_time_dt\": \"2021-02-04T05:43:09.779383Z\", \"duration\": \"0:01:11\", \"iteration\": \"2\", \"goal\": \"accuracy_max\", \"run_name\": \"MaxAbsScaler, RandomForest\", \"run_properties\": \"copy=True\", \"primary_metric\": 0.78448936, \"best_metric\": 0.80132446}, {\"run_id\": \"AutoML_fa353ffa-1586-4468-9f9f-9cd78f2e9a1f_4\", \"run_number\": 63, \"metric\": null, \"status\": \"Completed\", \"run_type\": \"azureml.scriptrun\", \"training_percent\": \"100\", \"start_time\": \"2021-02-04T05:45:43.175725Z\", \"end_time\": \"2021-02-04T05:49:14.423194Z\", \"created_time\": \"2021-02-04T05:43:09.759582Z\", \"created_time_dt\": \"2021-02-04T05:43:09.759582Z\", \"duration\": \"0:06:04\", \"iteration\": \"4\", \"goal\": \"accuracy_max\", \"run_name\": \"MaxAbsScaler, RandomForest\", \"run_properties\": \"copy=True\", \"primary_metric\": 0.78227355, \"best_metric\": 0.80132446}, {\"run_id\": \"AutoML_fa353ffa-1586-4468-9f9f-9cd78f2e9a1f_5\", \"run_number\": 64, \"metric\": null, \"status\": \"Completed\", \"run_type\": \"azureml.scriptrun\", \"training_percent\": \"100\", \"start_time\": \"2021-02-04T05:45:48.422358Z\", \"end_time\": \"2021-02-04T05:49:08.539972Z\", \"created_time\": \"2021-02-04T05:44:25.843592Z\", \"created_time_dt\": \"2021-02-04T05:44:25.843592Z\", \"duration\": \"0:04:42\", \"iteration\": \"5\", \"goal\": \"accuracy_max\", \"run_name\": \"MaxAbsScaler, RandomForest\", \"run_properties\": \"copy=True\", \"primary_metric\": 0.76206139, \"best_metric\": 0.80132446}, {\"run_id\": \"AutoML_fa353ffa-1586-4468-9f9f-9cd78f2e9a1f_6\", \"run_number\": 65, \"metric\": null, \"status\": \"Completed\", \"run_type\": \"azureml.scriptrun\", \"training_percent\": \"100\", \"start_time\": \"2021-02-04T05:46:24.766731Z\", \"end_time\": \"2021-02-04T05:47:22.051162Z\", \"created_time\": \"2021-02-04T05:45:25.712584Z\", \"created_time_dt\": \"2021-02-04T05:45:25.712584Z\", \"duration\": \"0:01:56\", \"iteration\": \"6\", \"goal\": \"accuracy_max\", \"run_name\": \"MaxAbsScaler, RandomForest\", \"run_properties\": \"copy=True\", \"primary_metric\": 0.71824117, \"best_metric\": 0.80132446}, {\"run_id\": \"AutoML_fa353ffa-1586-4468-9f9f-9cd78f2e9a1f_7\", \"run_number\": 66, \"metric\": null, \"status\": \"Completed\", \"run_type\": \"azureml.scriptrun\", \"training_percent\": \"100\", \"start_time\": \"2021-02-04T05:47:25.694873Z\", \"end_time\": \"2021-02-04T05:48:23.822463Z\", \"created_time\": \"2021-02-04T05:46:24.23025Z\", \"created_time_dt\": \"2021-02-04T05:46:24.23025Z\", \"duration\": \"0:01:59\", \"iteration\": \"7\", \"goal\": \"accuracy_max\", \"run_name\": \"StandardScalerWrapper, XGBoostClassifier\", \"run_properties\": \"<azureml.automl.runtime.shared.model_wrappers.StandardScalerWrapper object at 0x7fcb55f09080\", \"primary_metric\": 0.79122466, \"best_metric\": 0.80132446}, {\"run_id\": \"AutoML_fa353ffa-1586-4468-9f9f-9cd78f2e9a1f_8\", \"run_number\": 67, \"metric\": null, \"status\": \"Completed\", \"run_type\": \"azureml.scriptrun\", \"training_percent\": \"100\", \"start_time\": \"2021-02-04T05:48:28.314784Z\", \"end_time\": \"2021-02-04T05:49:22.364975Z\", \"created_time\": \"2021-02-04T05:47:25.268401Z\", \"created_time_dt\": \"2021-02-04T05:47:25.268401Z\", \"duration\": \"0:01:57\", \"iteration\": \"8\", \"goal\": \"accuracy_max\", \"run_name\": \"SparseNormalizer, XGBoostClassifier\", \"run_properties\": \"<azureml.automl.runtime.shared.model_wrappers.SparseNormalizer object at 0x7f187900a198\", \"primary_metric\": 0.77776662, \"best_metric\": 0.80132446}, {\"run_id\": \"AutoML_fa353ffa-1586-4468-9f9f-9cd78f2e9a1f_9\", \"run_number\": 68, \"metric\": null, \"status\": \"Completed\", \"run_type\": \"azureml.scriptrun\", \"training_percent\": \"100\", \"start_time\": \"2021-02-04T05:49:10.374124Z\", \"end_time\": \"2021-02-04T05:50:08.716679Z\", \"created_time\": \"2021-02-04T05:48:27.257597Z\", \"created_time_dt\": \"2021-02-04T05:48:27.257597Z\", \"duration\": \"0:01:41\", \"iteration\": \"9\", \"goal\": \"accuracy_max\", \"run_name\": \"MaxAbsScaler, LogisticRegression\", \"run_properties\": \"copy=True\", \"primary_metric\": 0.79123721, \"best_metric\": 0.80132446}, {\"run_id\": \"AutoML_fa353ffa-1586-4468-9f9f-9cd78f2e9a1f_10\", \"run_number\": 69, \"metric\": null, \"status\": \"Completed\", \"run_type\": \"azureml.scriptrun\", \"training_percent\": \"100\", \"start_time\": \"2021-02-04T05:49:25.36959Z\", \"end_time\": \"2021-02-04T05:50:25.73214Z\", \"created_time\": \"2021-02-04T05:49:12.671169Z\", \"created_time_dt\": \"2021-02-04T05:49:12.671169Z\", \"duration\": \"0:01:13\", \"iteration\": \"10\", \"goal\": \"accuracy_max\", \"run_name\": \"SparseNormalizer, XGBoostClassifier\", \"run_properties\": \"<azureml.automl.runtime.shared.model_wrappers.SparseNormalizer object at 0x7fe610661860\", \"primary_metric\": 0.77887766, \"best_metric\": 0.80132446}, {\"run_id\": \"AutoML_fa353ffa-1586-4468-9f9f-9cd78f2e9a1f_11\", \"run_number\": 70, \"metric\": null, \"status\": \"Completed\", \"run_type\": \"azureml.scriptrun\", \"training_percent\": \"100\", \"start_time\": \"2021-02-04T05:49:33.187332Z\", \"end_time\": \"2021-02-04T05:50:28.398426Z\", \"created_time\": \"2021-02-04T05:49:18.845313Z\", \"created_time_dt\": \"2021-02-04T05:49:18.845313Z\", \"duration\": \"0:01:09\", \"iteration\": \"11\", \"goal\": \"accuracy_max\", \"run_name\": \"SparseNormalizer, XGBoostClassifier\", \"run_properties\": \"<azureml.automl.runtime.shared.model_wrappers.SparseNormalizer object at 0x7f29a848a710\", \"primary_metric\": 0.77996359, \"best_metric\": 0.80132446}, {\"run_id\": \"AutoML_fa353ffa-1586-4468-9f9f-9cd78f2e9a1f_12\", \"run_number\": 71, \"metric\": null, \"status\": \"Completed\", \"run_type\": \"azureml.scriptrun\", \"training_percent\": \"100\", \"start_time\": \"2021-02-04T05:49:39.177696Z\", \"end_time\": \"2021-02-04T05:51:00.60647Z\", \"created_time\": \"2021-02-04T05:49:26.413514Z\", \"created_time_dt\": \"2021-02-04T05:49:26.413514Z\", \"duration\": \"0:01:34\", \"iteration\": \"12\", \"goal\": \"accuracy_max\", \"run_name\": \"StandardScalerWrapper, LightGBM\", \"run_properties\": \"<azureml.automl.runtime.shared.model_wrappers.StandardScalerWrapper object at 0x7f8fb56824a8\", \"primary_metric\": 0.786724, \"best_metric\": 0.80132446}, {\"run_id\": \"AutoML_fa353ffa-1586-4468-9f9f-9cd78f2e9a1f_13\", \"run_number\": 72, \"metric\": null, \"status\": \"Completed\", \"run_type\": \"azureml.scriptrun\", \"training_percent\": \"100\", \"start_time\": \"2021-02-04T05:50:12.23324Z\", \"end_time\": \"2021-02-04T05:51:14.133147Z\", \"created_time\": \"2021-02-04T05:49:32.645664Z\", \"created_time_dt\": \"2021-02-04T05:49:32.645664Z\", \"duration\": \"0:01:41\", \"iteration\": \"13\", \"goal\": \"accuracy_max\", \"run_name\": \"MaxAbsScaler, ExtremeRandomTrees\", \"run_properties\": \"copy=True\", \"primary_metric\": 0.77438328, \"best_metric\": 0.80132446}, {\"run_id\": \"AutoML_fa353ffa-1586-4468-9f9f-9cd78f2e9a1f_14\", \"run_number\": 73, \"metric\": null, \"status\": \"Completed\", \"run_type\": \"azureml.scriptrun\", \"training_percent\": \"100\", \"start_time\": \"2021-02-04T05:50:28.896715Z\", \"end_time\": \"2021-02-04T05:51:25.748237Z\", \"created_time\": \"2021-02-04T05:50:10.761437Z\", \"created_time_dt\": \"2021-02-04T05:50:10.761437Z\", \"duration\": \"0:01:14\", \"iteration\": \"14\", \"goal\": \"accuracy_max\", \"run_name\": \"SparseNormalizer, LightGBM\", \"run_properties\": \"<azureml.automl.runtime.shared.model_wrappers.SparseNormalizer object at 0x7f574ad2dcc0\", \"primary_metric\": 0.78113113, \"best_metric\": 0.80132446}, {\"run_id\": \"AutoML_fa353ffa-1586-4468-9f9f-9cd78f2e9a1f_15\", \"run_number\": 74, \"metric\": null, \"status\": \"Completed\", \"run_type\": \"azureml.scriptrun\", \"training_percent\": \"100\", \"start_time\": \"2021-02-04T05:50:46.077502Z\", \"end_time\": \"2021-02-04T05:51:42.767201Z\", \"created_time\": \"2021-02-04T05:50:29.571377Z\", \"created_time_dt\": \"2021-02-04T05:50:29.571377Z\", \"duration\": \"0:01:13\", \"iteration\": \"15\", \"goal\": \"accuracy_max\", \"run_name\": \"MaxAbsScaler, ExtremeRandomTrees\", \"run_properties\": \"copy=True\", \"primary_metric\": 0.7979474, \"best_metric\": 0.80132446}, {\"run_id\": \"AutoML_fa353ffa-1586-4468-9f9f-9cd78f2e9a1f_16\", \"run_number\": 75, \"metric\": null, \"status\": \"Completed\", \"run_type\": \"azureml.scriptrun\", \"training_percent\": \"100\", \"start_time\": \"2021-02-04T05:51:02.289837Z\", \"end_time\": \"2021-02-04T05:52:08.125032Z\", \"created_time\": \"2021-02-04T05:50:35.907534Z\", \"created_time_dt\": \"2021-02-04T05:50:35.907534Z\", \"duration\": \"0:01:32\", \"iteration\": \"16\", \"goal\": \"accuracy_max\", \"run_name\": \"MaxAbsScaler, RandomForest\", \"run_properties\": \"copy=True\", \"primary_metric\": 0.77551943, \"best_metric\": 0.80132446}, {\"run_id\": \"AutoML_fa353ffa-1586-4468-9f9f-9cd78f2e9a1f_17\", \"run_number\": 76, \"metric\": null, \"status\": \"Completed\", \"run_type\": \"azureml.scriptrun\", \"training_percent\": \"100\", \"start_time\": \"2021-02-04T05:51:16.396323Z\", \"end_time\": \"2021-02-04T05:52:15.300765Z\", \"created_time\": \"2021-02-04T05:51:03.196338Z\", \"created_time_dt\": \"2021-02-04T05:51:03.196338Z\", \"duration\": \"0:01:12\", \"iteration\": \"17\", \"goal\": \"accuracy_max\", \"run_name\": \"StandardScalerWrapper, LightGBM\", \"run_properties\": \"<azureml.automl.runtime.shared.model_wrappers.StandardScalerWrapper object at 0x7fdc38422eb8\", \"primary_metric\": 0.77997615, \"best_metric\": 0.80132446}, {\"run_id\": \"AutoML_fa353ffa-1586-4468-9f9f-9cd78f2e9a1f_18\", \"run_number\": 77, \"metric\": null, \"status\": \"Completed\", \"run_type\": \"azureml.scriptrun\", \"training_percent\": \"100\", \"start_time\": \"2021-02-04T05:51:28.587388Z\", \"end_time\": \"2021-02-04T05:52:19.159977Z\", \"created_time\": \"2021-02-04T05:51:16.916001Z\", \"created_time_dt\": \"2021-02-04T05:51:16.916001Z\", \"duration\": \"0:01:02\", \"iteration\": \"18\", \"goal\": \"accuracy_max\", \"run_name\": \"MaxAbsScaler, LightGBM\", \"run_properties\": \"copy=True\", \"primary_metric\": 0.78223589, \"best_metric\": 0.80132446}, {\"run_id\": \"AutoML_fa353ffa-1586-4468-9f9f-9cd78f2e9a1f_19\", \"run_number\": 78, \"metric\": null, \"status\": \"Completed\", \"run_type\": \"azureml.scriptrun\", \"training_percent\": \"100\", \"start_time\": \"2021-02-04T05:51:46.220185Z\", \"end_time\": \"2021-02-04T05:52:47.232704Z\", \"created_time\": \"2021-02-04T05:51:28.999083Z\", \"created_time_dt\": \"2021-02-04T05:51:28.999083Z\", \"duration\": \"0:01:18\", \"iteration\": \"19\", \"goal\": \"accuracy_max\", \"run_name\": \"StandardScalerWrapper, ExtremeRandomTrees\", \"run_properties\": \"<azureml.automl.runtime.shared.model_wrappers.StandardScalerWrapper object at 0x7f679c9c4898\", \"primary_metric\": 0.7979474, \"best_metric\": 0.80132446}, {\"run_id\": \"AutoML_fa353ffa-1586-4468-9f9f-9cd78f2e9a1f_20\", \"run_number\": 79, \"metric\": null, \"status\": \"Completed\", \"run_type\": \"azureml.scriptrun\", \"training_percent\": \"100\", \"start_time\": \"2021-02-04T05:52:11.762635Z\", \"end_time\": \"2021-02-04T05:53:04.793594Z\", \"created_time\": \"2021-02-04T05:51:44.96774Z\", \"created_time_dt\": \"2021-02-04T05:51:44.96774Z\", \"duration\": \"0:01:19\", \"iteration\": \"20\", \"goal\": \"accuracy_max\", \"run_name\": \"SparseNormalizer, LightGBM\", \"run_properties\": \"<azureml.automl.runtime.shared.model_wrappers.SparseNormalizer object at 0x7f18272d5cf8\", \"primary_metric\": 0.7721612, \"best_metric\": 0.80132446}, {\"run_id\": \"AutoML_fa353ffa-1586-4468-9f9f-9cd78f2e9a1f_21\", \"run_number\": 80, \"metric\": null, \"status\": \"Completed\", \"run_type\": \"azureml.scriptrun\", \"training_percent\": \"100\", \"start_time\": \"2021-02-04T05:52:21.964222Z\", \"end_time\": \"2021-02-04T05:53:12.428999Z\", \"created_time\": \"2021-02-04T05:52:11.011682Z\", \"created_time_dt\": \"2021-02-04T05:52:11.011682Z\", \"duration\": \"0:01:01\", \"iteration\": \"21\", \"goal\": \"accuracy_max\", \"run_name\": \"StandardScalerWrapper, LightGBM\", \"run_properties\": \"<azureml.automl.runtime.shared.model_wrappers.StandardScalerWrapper object at 0x7fc64ee71630\", \"primary_metric\": 0.71826627, \"best_metric\": 0.80132446}, {\"run_id\": \"AutoML_fa353ffa-1586-4468-9f9f-9cd78f2e9a1f_22\", \"run_number\": 81, \"metric\": null, \"status\": \"Completed\", \"run_type\": \"azureml.scriptrun\", \"training_percent\": \"100\", \"start_time\": \"2021-02-04T05:52:30.385218Z\", \"end_time\": \"2021-02-04T05:53:19.081884Z\", \"created_time\": \"2021-02-04T05:52:17.778291Z\", \"created_time_dt\": \"2021-02-04T05:52:17.778291Z\", \"duration\": \"0:01:01\", \"iteration\": \"22\", \"goal\": \"accuracy_max\", \"run_name\": \"SparseNormalizer, XGBoostClassifier\", \"run_properties\": \"<azureml.automl.runtime.shared.model_wrappers.SparseNormalizer object at 0x7ffb449ceb38\", \"primary_metric\": 0.7799887, \"best_metric\": 0.80132446}, {\"run_id\": \"AutoML_fa353ffa-1586-4468-9f9f-9cd78f2e9a1f_23\", \"run_number\": 82, \"metric\": null, \"status\": \"Completed\", \"run_type\": \"azureml.scriptrun\", \"training_percent\": \"100\", \"start_time\": \"2021-02-04T05:52:49.329982Z\", \"end_time\": \"2021-02-04T05:53:46.671138Z\", \"created_time\": \"2021-02-04T05:52:22.039816Z\", \"created_time_dt\": \"2021-02-04T05:52:22.039816Z\", \"duration\": \"0:01:24\", \"iteration\": \"23\", \"goal\": \"accuracy_max\", \"run_name\": \"SparseNormalizer, XGBoostClassifier\", \"run_properties\": \"<azureml.automl.runtime.shared.model_wrappers.SparseNormalizer object at 0x7f2ed8465c18\", \"primary_metric\": 0.79347185, \"best_metric\": 0.80132446}, {\"run_id\": \"AutoML_fa353ffa-1586-4468-9f9f-9cd78f2e9a1f_24\", \"run_number\": 83, \"metric\": null, \"status\": \"Completed\", \"run_type\": \"azureml.scriptrun\", \"training_percent\": \"100\", \"start_time\": \"2021-02-04T05:53:08.413423Z\", \"end_time\": \"2021-02-04T05:54:02.410917Z\", \"created_time\": \"2021-02-04T05:52:49.407879Z\", \"created_time_dt\": \"2021-02-04T05:52:49.407879Z\", \"duration\": \"0:01:13\", \"iteration\": \"24\", \"goal\": \"accuracy_max\", \"run_name\": \"StandardScalerWrapper, XGBoostClassifier\", \"run_properties\": \"<azureml.automl.runtime.shared.model_wrappers.StandardScalerWrapper object at 0x7fd065b2a668\", \"primary_metric\": 0.80244806, \"best_metric\": 0.80244806}, {\"run_id\": \"AutoML_fa353ffa-1586-4468-9f9f-9cd78f2e9a1f_25\", \"run_number\": 84, \"metric\": null, \"status\": \"Completed\", \"run_type\": \"azureml.scriptrun\", \"training_percent\": \"100\", \"start_time\": \"2021-02-04T05:53:19.299238Z\", \"end_time\": \"2021-02-04T05:54:12.611147Z\", \"created_time\": \"2021-02-04T05:53:08.530733Z\", \"created_time_dt\": \"2021-02-04T05:53:08.530733Z\", \"duration\": \"0:01:04\", \"iteration\": \"25\", \"goal\": \"accuracy_max\", \"run_name\": \"TruncatedSVDWrapper, XGBoostClassifier\", \"run_properties\": \"n_components=0.2573684210526316, random_state=None\", \"primary_metric\": 0.61615718, \"best_metric\": 0.80244806}, {\"run_id\": \"AutoML_fa353ffa-1586-4468-9f9f-9cd78f2e9a1f_26\", \"run_number\": 85, \"metric\": null, \"status\": \"Completed\", \"run_type\": \"azureml.scriptrun\", \"training_percent\": \"100\", \"start_time\": \"2021-02-04T05:53:27.520274Z\", \"end_time\": \"2021-02-04T05:54:16.634377Z\", \"created_time\": \"2021-02-04T05:53:14.898814Z\", \"created_time_dt\": \"2021-02-04T05:53:14.898814Z\", \"duration\": \"0:01:01\", \"iteration\": \"26\", \"goal\": \"accuracy_max\", \"run_name\": \"StandardScalerWrapper, RandomForest\", \"run_properties\": \"<azureml.automl.runtime.shared.model_wrappers.StandardScalerWrapper object at 0x7f3f885b1e48\", \"primary_metric\": 0.79012617, \"best_metric\": 0.80244806}, {\"run_id\": \"AutoML_fa353ffa-1586-4468-9f9f-9cd78f2e9a1f_27\", \"run_number\": 86, \"metric\": null, \"status\": \"Completed\", \"run_type\": \"azureml.scriptrun\", \"training_percent\": \"100\", \"start_time\": \"2021-02-04T05:53:50.574771Z\", \"end_time\": \"2021-02-04T05:54:49.201595Z\", \"created_time\": \"2021-02-04T05:53:21.242811Z\", \"created_time_dt\": \"2021-02-04T05:53:21.242811Z\", \"duration\": \"0:01:27\", \"iteration\": \"27\", \"goal\": \"accuracy_max\", \"run_name\": \"MaxAbsScaler, LightGBM\", \"run_properties\": \"copy=True\", \"primary_metric\": 0.78784759, \"best_metric\": 0.80244806}, {\"run_id\": \"AutoML_fa353ffa-1586-4468-9f9f-9cd78f2e9a1f_28\", \"run_number\": 87, \"metric\": null, \"status\": \"Completed\", \"run_type\": \"azureml.scriptrun\", \"training_percent\": \"100\", \"start_time\": \"2021-02-04T05:54:07.116911Z\", \"end_time\": \"2021-02-04T05:55:04.959121Z\", \"created_time\": \"2021-02-04T05:53:49.4938Z\", \"created_time_dt\": \"2021-02-04T05:53:49.4938Z\", \"duration\": \"0:01:15\", \"iteration\": \"28\", \"goal\": \"accuracy_max\", \"run_name\": \"MaxAbsScaler, LightGBM\", \"run_properties\": \"copy=True\", \"primary_metric\": 0.73061327, \"best_metric\": 0.80244806}, {\"run_id\": \"AutoML_fa353ffa-1586-4468-9f9f-9cd78f2e9a1f_29\", \"run_number\": 88, \"metric\": null, \"status\": \"Completed\", \"run_type\": \"azureml.scriptrun\", \"training_percent\": \"100\", \"start_time\": \"2021-02-04T05:54:17.258021Z\", \"end_time\": \"2021-02-04T05:55:15.403517Z\", \"created_time\": \"2021-02-04T05:54:05.020293Z\", \"created_time_dt\": \"2021-02-04T05:54:05.020293Z\", \"duration\": \"0:01:10\", \"iteration\": \"29\", \"goal\": \"accuracy_max\", \"run_name\": \"StandardScalerWrapper, LightGBM\", \"run_properties\": \"<azureml.automl.runtime.shared.model_wrappers.StandardScalerWrapper object at 0x7fc3cfdaa400\", \"primary_metric\": 0.79458917, \"best_metric\": 0.80244806}, {\"run_id\": \"AutoML_fa353ffa-1586-4468-9f9f-9cd78f2e9a1f_30\", \"run_number\": 89, \"metric\": null, \"status\": \"Completed\", \"run_type\": \"azureml.scriptrun\", \"training_percent\": \"100\", \"start_time\": \"2021-02-04T05:54:26.354284Z\", \"end_time\": \"2021-02-04T05:55:14.058138Z\", \"created_time\": \"2021-02-04T05:54:16.149158Z\", \"created_time_dt\": \"2021-02-04T05:54:16.149158Z\", \"duration\": \"0:00:57\", \"iteration\": \"30\", \"goal\": \"accuracy_max\", \"run_name\": \"SparseNormalizer, XGBoostClassifier\", \"run_properties\": \"<azureml.automl.runtime.shared.model_wrappers.SparseNormalizer object at 0x7fb19656a7f0\", \"primary_metric\": 0.77551315, \"best_metric\": 0.80244806}, {\"run_id\": \"AutoML_fa353ffa-1586-4468-9f9f-9cd78f2e9a1f_31\", \"run_number\": 90, \"metric\": null, \"status\": \"Completed\", \"run_type\": \"azureml.scriptrun\", \"training_percent\": \"100\", \"start_time\": \"2021-02-04T05:54:53.563555Z\", \"end_time\": \"2021-02-04T05:55:45.639442Z\", \"created_time\": \"2021-02-04T05:54:19.954922Z\", \"created_time_dt\": \"2021-02-04T05:54:19.954922Z\", \"duration\": \"0:01:25\", \"iteration\": \"31\", \"goal\": \"accuracy_max\", \"run_name\": \"SparseNormalizer, XGBoostClassifier\", \"run_properties\": \"<azureml.automl.runtime.shared.model_wrappers.SparseNormalizer object at 0x7f4ca5528eb8\", \"primary_metric\": 0.77438955, \"best_metric\": 0.80244806}, {\"run_id\": \"AutoML_fa353ffa-1586-4468-9f9f-9cd78f2e9a1f_32\", \"run_number\": 91, \"metric\": null, \"status\": \"Completed\", \"run_type\": \"azureml.scriptrun\", \"training_percent\": \"100\", \"start_time\": \"2021-02-04T05:55:10.000595Z\", \"end_time\": \"2021-02-04T05:56:06.921705Z\", \"created_time\": \"2021-02-04T05:54:51.278299Z\", \"created_time_dt\": \"2021-02-04T05:54:51.278299Z\", \"duration\": \"0:01:15\", \"iteration\": \"32\", \"goal\": \"accuracy_max\", \"run_name\": \"SparseNormalizer, XGBoostClassifier\", \"run_properties\": \"<azureml.automl.runtime.shared.model_wrappers.SparseNormalizer object at 0x7f72929104a8\", \"primary_metric\": 0.77890277, \"best_metric\": 0.80244806}, {\"run_id\": \"AutoML_fa353ffa-1586-4468-9f9f-9cd78f2e9a1f_33\", \"run_number\": 92, \"metric\": null, \"status\": \"Completed\", \"run_type\": \"azureml.scriptrun\", \"training_percent\": \"100\", \"start_time\": \"2021-02-04T05:55:21.367797Z\", \"end_time\": \"2021-02-04T05:56:13.816785Z\", \"created_time\": \"2021-02-04T05:55:07.940832Z\", \"created_time_dt\": \"2021-02-04T05:55:07.940832Z\", \"duration\": \"0:01:05\", \"iteration\": \"33\", \"goal\": \"accuracy_max\", \"run_name\": \"SparseNormalizer, RandomForest\", \"run_properties\": \"<azureml.automl.runtime.shared.model_wrappers.SparseNormalizer object at 0x7f80d04f6d68\", \"primary_metric\": 0.77215492, \"best_metric\": 0.80244806}, {\"run_id\": \"AutoML_fa353ffa-1586-4468-9f9f-9cd78f2e9a1f_34\", \"run_number\": 93, \"metric\": null, \"status\": \"Completed\", \"run_type\": \"azureml.scriptrun\", \"training_percent\": \"100\", \"start_time\": \"2021-02-04T05:55:29.918048Z\", \"end_time\": \"2021-02-04T05:56:25.2072Z\", \"created_time\": \"2021-02-04T05:55:17.910353Z\", \"created_time_dt\": \"2021-02-04T05:55:17.910353Z\", \"duration\": \"0:01:07\", \"iteration\": \"34\", \"goal\": \"accuracy_max\", \"run_name\": \"StandardScalerWrapper, ExtremeRandomTrees\", \"run_properties\": \"<azureml.automl.runtime.shared.model_wrappers.StandardScalerWrapper object at 0x7fca70447cf8\", \"primary_metric\": 0.77553826, \"best_metric\": 0.80244806}, {\"run_id\": \"AutoML_fa353ffa-1586-4468-9f9f-9cd78f2e9a1f_35\", \"run_number\": 94, \"metric\": null, \"status\": \"Completed\", \"run_type\": \"azureml.scriptrun\", \"training_percent\": \"100\", \"start_time\": \"2021-02-04T05:55:49.218192Z\", \"end_time\": \"2021-02-04T05:56:46.100024Z\", \"created_time\": \"2021-02-04T05:55:26.697137Z\", \"created_time_dt\": \"2021-02-04T05:55:26.697137Z\", \"duration\": \"0:01:19\", \"iteration\": \"35\", \"goal\": \"accuracy_max\", \"run_name\": \"SparseNormalizer, XGBoostClassifier\", \"run_properties\": \"<azureml.automl.runtime.shared.model_wrappers.SparseNormalizer object at 0x7fa2ffedbef0\", \"primary_metric\": 0.79236081, \"best_metric\": 0.80244806}, {\"run_id\": \"AutoML_fa353ffa-1586-4468-9f9f-9cd78f2e9a1f_36\", \"run_number\": 95, \"metric\": null, \"status\": \"Completed\", \"run_type\": \"azureml.scriptrun\", \"training_percent\": \"100\", \"start_time\": \"2021-02-04T05:56:10.679124Z\", \"end_time\": \"2021-02-04T05:57:07.000547Z\", \"created_time\": \"2021-02-04T05:55:48.784909Z\", \"created_time_dt\": \"2021-02-04T05:55:48.784909Z\", \"duration\": \"0:01:18\", \"iteration\": \"36\", \"goal\": \"accuracy_max\", \"run_name\": \"MaxAbsScaler, LogisticRegression\", \"run_properties\": \"copy=True\", \"primary_metric\": 0.79123721, \"best_metric\": 0.80244806}, {\"run_id\": \"AutoML_fa353ffa-1586-4468-9f9f-9cd78f2e9a1f_37\", \"run_number\": 96, \"metric\": null, \"status\": \"Completed\", \"run_type\": \"azureml.scriptrun\", \"training_percent\": \"100\", \"start_time\": \"2021-02-04T05:56:22.5984Z\", \"end_time\": \"2021-02-04T05:57:20.514775Z\", \"created_time\": \"2021-02-04T05:56:09.221256Z\", \"created_time_dt\": \"2021-02-04T05:56:09.221256Z\", \"duration\": \"0:01:11\", \"iteration\": \"37\", \"goal\": \"accuracy_max\", \"run_name\": \"MaxAbsScaler, RandomForest\", \"run_properties\": \"copy=True\", \"primary_metric\": 0.75982048, \"best_metric\": 0.80244806}, {\"run_id\": \"AutoML_fa353ffa-1586-4468-9f9f-9cd78f2e9a1f_38\", \"run_number\": 97, \"metric\": null, \"status\": \"Completed\", \"run_type\": \"azureml.scriptrun\", \"training_percent\": \"100\", \"start_time\": \"2021-02-04T05:56:32.391544Z\", \"end_time\": \"2021-02-04T05:57:23.625661Z\", \"created_time\": \"2021-02-04T05:56:16.578335Z\", \"created_time_dt\": \"2021-02-04T05:56:16.578335Z\", \"duration\": \"0:01:07\", \"iteration\": \"38\", \"goal\": \"accuracy_max\", \"run_name\": \"MaxAbsScaler, RandomForest\", \"run_properties\": \"copy=True\", \"primary_metric\": 0.80133074, \"best_metric\": 0.80244806}, {\"run_id\": \"AutoML_fa353ffa-1586-4468-9f9f-9cd78f2e9a1f_39\", \"run_number\": 98, \"metric\": null, \"status\": \"Canceled\", \"run_type\": \"azureml.scriptrun\", \"training_percent\": \"100\", \"start_time\": \"2021-02-04T05:56:48.837918Z\", \"end_time\": \"2021-02-04T05:57:33.767748Z\", \"created_time\": \"2021-02-04T05:56:28.669404Z\", \"created_time_dt\": \"2021-02-04T05:56:28.669404Z\", \"duration\": \"0:01:05\", \"iteration\": \"39\", \"goal\": \"accuracy_max\", \"run_name\": \"StandardScalerWrapper, XGBoostClassifier\", \"run_properties\": \"<azureml.automl.runtime.shared.model_wrappers.StandardScalerWrapper object at 0x7f83ec5755c0\", \"primary_metric\": 0.77214864, \"best_metric\": 0.80244806}, {\"run_id\": \"AutoML_fa353ffa-1586-4468-9f9f-9cd78f2e9a1f_40\", \"run_number\": 99, \"metric\": null, \"status\": \"Canceled\", \"run_type\": \"azureml.scriptrun\", \"training_percent\": \"100\", \"start_time\": \"2021-02-04T05:57:07.644981Z\", \"end_time\": \"2021-02-04T05:57:32.964395Z\", \"created_time\": \"2021-02-04T05:56:49.97941Z\", \"created_time_dt\": \"2021-02-04T05:56:49.97941Z\", \"duration\": \"0:00:42\", \"iteration\": \"40\", \"goal\": null, \"run_name\": \"Canceled\", \"run_properties\": null}, {\"run_id\": \"AutoML_fa353ffa-1586-4468-9f9f-9cd78f2e9a1f_41\", \"run_number\": 100, \"metric\": null, \"status\": \"Canceled\", \"run_type\": \"azureml.scriptrun\", \"training_percent\": \"100\", \"start_time\": \"2021-02-04T05:57:26.63162Z\", \"end_time\": \"2021-02-04T05:57:34.375673Z\", \"created_time\": \"2021-02-04T05:57:09.601919Z\", \"created_time_dt\": \"2021-02-04T05:57:09.601919Z\", \"duration\": \"0:00:24\", \"iteration\": \"41\", \"goal\": null, \"run_name\": \"Canceled\", \"run_properties\": null}, {\"run_id\": \"AutoML_fa353ffa-1586-4468-9f9f-9cd78f2e9a1f_42\", \"run_number\": 101, \"metric\": null, \"status\": \"Canceled\", \"run_type\": \"azureml.scriptrun\", \"training_percent\": \"100\", \"start_time\": \"2021-02-04T05:57:23.035269Z\", \"end_time\": \"2021-02-04T05:57:39.565078Z\", \"created_time\": \"2021-02-04T05:57:23.035269Z\", \"created_time_dt\": \"2021-02-04T05:57:23.035269Z\", \"duration\": \"0:00:16\", \"iteration\": \"42\", \"goal\": null, \"run_name\": \"Canceled\", \"run_properties\": null}, {\"run_id\": \"AutoML_fa353ffa-1586-4468-9f9f-9cd78f2e9a1f_43\", \"run_number\": 102, \"metric\": null, \"status\": \"Completed\", \"run_type\": \"azureml.scriptrun\", \"training_percent\": \"100\", \"start_time\": \"2021-02-04T05:57:55.395601Z\", \"end_time\": \"2021-02-04T05:59:38.647135Z\", \"created_time\": \"2021-02-04T05:57:42.334463Z\", \"created_time_dt\": \"2021-02-04T05:57:42.334463Z\", \"duration\": \"0:01:56\", \"iteration\": \"43\", \"goal\": \"accuracy_max\", \"run_name\": \"VotingEnsemble\", \"run_properties\": \"classification_labels=None,\\n                              estimators=[('24',\\n                                           Pipeline(memory=None,\\n                                                    steps=[('standardscalerwrapper',\\n                                                            <azureml.automl.runtime.shared.model_wrappers.StandardScalerWrapper object at 0x7f0a18a02da0>\", \"primary_metric\": 0.81704224, \"best_metric\": 0.81704224}, {\"run_id\": \"AutoML_fa353ffa-1586-4468-9f9f-9cd78f2e9a1f_44\", \"run_number\": 103, \"metric\": null, \"status\": \"Completed\", \"run_type\": \"azureml.scriptrun\", \"training_percent\": \"100\", \"start_time\": \"2021-02-04T05:57:56.187444Z\", \"end_time\": \"2021-02-04T05:59:40.35281Z\", \"created_time\": \"2021-02-04T05:57:42.453373Z\", \"created_time_dt\": \"2021-02-04T05:57:42.453373Z\", \"duration\": \"0:01:57\", \"iteration\": \"44\", \"goal\": \"accuracy_max\", \"run_name\": \"StackEnsemble\", \"run_properties\": \"base_learners=[('24',\\n                                        Pipeline(memory=None,\\n                                                 steps=[('standardscalerwrapper',\\n                                                         <azureml.automl.runtime.shared.model_wrappers.StandardScalerWrapper object at 0x7f9a0a6e8710>\", \"primary_metric\": 0.8047078, \"best_metric\": 0.81704224}], \"children_metrics\": {\"categories\": [0], \"series\": {\"AUC_weighted\": [{\"categories\": [\"0\", \"1\", \"2\", \"3\", \"4\", \"5\", \"6\", \"7\", \"8\", \"9\", \"10\", \"11\", \"12\", \"13\", \"14\", \"15\", \"16\", \"17\", \"18\", \"19\", \"20\", \"21\", \"22\", \"23\", \"24\", \"25\", \"26\", \"27\", \"28\", \"29\", \"30\", \"31\", \"32\", \"33\", \"34\", \"35\", \"36\", \"37\", \"38\", \"39\", \"43\", \"44\"], \"mode\": \"markers\", \"name\": \"AUC_weighted\", \"stepped\": false, \"type\": \"scatter\", \"data\": [0.8134024140985826, 0.8523997765446302, 0.8416550205918112, 0.8307902271860682, 0.8380517441319437, 0.8375069616531793, 0.829919546723904, 0.8434157982812114, 0.8126781226503237, 0.8486035922192491, 0.816053785915873, 0.8314080854960235, 0.8493945229100692, 0.8482916078019581, 0.8372447836425607, 0.8470699034314801, 0.8306127818256602, 0.8357897943623366, 0.8381820203398815, 0.8444496361254936, 0.8124184448435685, 0.8089985869881382, 0.828865714194469, 0.8326572147660668, 0.8401737691611493, 0.5, 0.8487310473784208, 0.8454171669376297, 0.7791401861796418, 0.845206932958235, 0.8263628455996699, 0.8277512725200837, 0.8443080767165354, 0.8318117989342525, 0.8440769116854577, 0.8401935634938189, 0.8458477203023685, 0.8418345212850378, 0.8431323219338391, 0.834791032437525, 0.8514507930498969, 0.8524595475135573]}, {\"categories\": [\"0\", \"1\", \"2\", \"3\", \"4\", \"5\", \"6\", \"7\", \"8\", \"9\", \"10\", \"11\", \"12\", \"13\", \"14\", \"15\", \"16\", \"17\", \"18\", \"19\", \"20\", \"21\", \"22\", \"23\", \"24\", \"25\", \"26\", \"27\", \"28\", \"29\", \"30\", \"31\", \"32\", \"33\", \"34\", \"35\", \"36\", \"37\", \"38\", \"39\", \"43\", \"44\"], \"mode\": \"lines\", \"name\": \"AUC_weighted_max\", \"stepped\": true, \"type\": \"scatter\", \"data\": [0.8134024140985826, 0.8523997765446302, 0.8523997765446302, 0.8523997765446302, 0.8523997765446302, 0.8523997765446302, 0.8523997765446302, 0.8523997765446302, 0.8523997765446302, 0.8523997765446302, 0.8523997765446302, 0.8523997765446302, 0.8523997765446302, 0.8523997765446302, 0.8523997765446302, 0.8523997765446302, 0.8523997765446302, 0.8523997765446302, 0.8523997765446302, 0.8523997765446302, 0.8523997765446302, 0.8523997765446302, 0.8523997765446302, 0.8523997765446302, 0.8523997765446302, 0.8523997765446302, 0.8523997765446302, 0.8523997765446302, 0.8523997765446302, 0.8523997765446302, 0.8523997765446302, 0.8523997765446302, 0.8523997765446302, 0.8523997765446302, 0.8523997765446302, 0.8523997765446302, 0.8523997765446302, 0.8523997765446302, 0.8523997765446302, 0.8523997765446302, 0.8523997765446302, 0.8524595475135573]}], \"f1_score_weighted\": [{\"categories\": [\"0\", \"1\", \"2\", \"3\", \"4\", \"5\", \"6\", \"7\", \"8\", \"9\", \"10\", \"11\", \"12\", \"13\", \"14\", \"15\", \"16\", \"17\", \"18\", \"19\", \"20\", \"21\", \"22\", \"23\", \"24\", \"25\", \"26\", \"27\", \"28\", \"29\", \"30\", \"31\", \"32\", \"33\", \"34\", \"35\", \"36\", \"37\", \"38\", \"39\", \"43\", \"44\"], \"mode\": \"markers\", \"name\": \"f1_score_weighted\", \"stepped\": false, \"type\": \"scatter\", \"data\": [0.7835643408930468, 0.7980786428134259, 0.777809781403551, 0.7554418029744021, 0.7824613085206323, 0.764511610991205, 0.6672386997501967, 0.7850123275140193, 0.7757884650705968, 0.7914862720887899, 0.7759535266862383, 0.7744623831959527, 0.7653262145059386, 0.7656537798058461, 0.7775723586502712, 0.7893967250037888, 0.7607589033741251, 0.7719979785990354, 0.7728400438467891, 0.7896310194778133, 0.7703513868702901, 0.6807246005626274, 0.7742495282270443, 0.7908406610958445, 0.7991622100309813, 0.47083314115090563, 0.7840642531246484, 0.7693653333337654, 0.7047882107125691, 0.7840242272298475, 0.7730405463817773, 0.7635430070726836, 0.7721515978201046, 0.7738036464608455, 0.7761308551245982, 0.7879606014621959, 0.7914430494261827, 0.762663165339948, 0.7970041526857006, 0.7629995018118337, 0.8113541820048858, 0.7980456239326374]}, {\"categories\": [\"0\", \"1\", \"2\", \"3\", \"4\", \"5\", \"6\", \"7\", \"8\", \"9\", \"10\", \"11\", \"12\", \"13\", \"14\", \"15\", \"16\", \"17\", \"18\", \"19\", \"20\", \"21\", \"22\", \"23\", \"24\", \"25\", \"26\", \"27\", \"28\", \"29\", \"30\", \"31\", \"32\", \"33\", \"34\", \"35\", \"36\", \"37\", \"38\", \"39\", \"43\", \"44\"], \"mode\": \"lines\", \"name\": \"f1_score_weighted_max\", \"stepped\": true, \"type\": \"scatter\", \"data\": [0.7835643408930468, 0.7980786428134259, 0.7980786428134259, 0.7980786428134259, 0.7980786428134259, 0.7980786428134259, 0.7980786428134259, 0.7980786428134259, 0.7980786428134259, 0.7980786428134259, 0.7980786428134259, 0.7980786428134259, 0.7980786428134259, 0.7980786428134259, 0.7980786428134259, 0.7980786428134259, 0.7980786428134259, 0.7980786428134259, 0.7980786428134259, 0.7980786428134259, 0.7980786428134259, 0.7980786428134259, 0.7980786428134259, 0.7980786428134259, 0.7991622100309813, 0.7991622100309813, 0.7991622100309813, 0.7991622100309813, 0.7991622100309813, 0.7991622100309813, 0.7991622100309813, 0.7991622100309813, 0.7991622100309813, 0.7991622100309813, 0.7991622100309813, 0.7991622100309813, 0.7991622100309813, 0.7991622100309813, 0.7991622100309813, 0.7991622100309813, 0.8113541820048858, 0.8113541820048858]}], \"accuracy\": [{\"categories\": [\"0\", \"1\", \"2\", \"3\", \"4\", \"5\", \"6\", \"7\", \"8\", \"9\", \"10\", \"11\", \"12\", \"13\", \"14\", \"15\", \"16\", \"17\", \"18\", \"19\", \"20\", \"21\", \"22\", \"23\", \"24\", \"25\", \"26\", \"27\", \"28\", \"29\", \"30\", \"31\", \"32\", \"33\", \"34\", \"35\", \"36\", \"37\", \"38\", \"39\", \"43\", \"44\"], \"mode\": \"markers\", \"name\": \"accuracy\", \"stepped\": false, \"type\": \"scatter\", \"data\": [0.7856004017324713, 0.8013244617412593, 0.784489360366581, 0.7665055552068295, 0.7822735547046639, 0.7620613897432678, 0.7182411650241668, 0.7912246563304249, 0.7777666185424643, 0.7912372104701525, 0.7788776599083548, 0.7799635929947899, 0.7867239972380893, 0.7743832778858829, 0.7811311279894546, 0.7979473981545414, 0.7755194275312285, 0.7799761471345176, 0.7822358922854811, 0.7979473981545414, 0.7721611951541021, 0.7182662733036219, 0.7799887012742451, 0.7934718473416609, 0.8024480572468772, 0.6161571778293892, 0.7901261691042621, 0.7878475927437073, 0.730613269725692, 0.7945891657774151, 0.7755131504613646, 0.7743895549557467, 0.7789027681878099, 0.7721549180842383, 0.7755382587408197, 0.7923608059757705, 0.7912372104701525, 0.7598204758018956, 0.8013307388111229, 0.7721486410143745, 0.8170422446801833, 0.8047078023978406]}, {\"categories\": [\"0\", \"1\", \"2\", \"3\", \"4\", \"5\", \"6\", \"7\", \"8\", \"9\", \"10\", \"11\", \"12\", \"13\", \"14\", \"15\", \"16\", \"17\", \"18\", \"19\", \"20\", \"21\", \"22\", \"23\", \"24\", \"25\", \"26\", \"27\", \"28\", \"29\", \"30\", \"31\", \"32\", \"33\", \"34\", \"35\", \"36\", \"37\", \"38\", \"39\", \"43\", \"44\"], \"mode\": \"lines\", \"name\": \"accuracy_max\", \"stepped\": true, \"type\": \"scatter\", \"data\": [0.7856004017324713, 0.8013244617412593, 0.8013244617412593, 0.8013244617412593, 0.8013244617412593, 0.8013244617412593, 0.8013244617412593, 0.8013244617412593, 0.8013244617412593, 0.8013244617412593, 0.8013244617412593, 0.8013244617412593, 0.8013244617412593, 0.8013244617412593, 0.8013244617412593, 0.8013244617412593, 0.8013244617412593, 0.8013244617412593, 0.8013244617412593, 0.8013244617412593, 0.8013244617412593, 0.8013244617412593, 0.8013244617412593, 0.8013244617412593, 0.8024480572468772, 0.8024480572468772, 0.8024480572468772, 0.8024480572468772, 0.8024480572468772, 0.8024480572468772, 0.8024480572468772, 0.8024480572468772, 0.8024480572468772, 0.8024480572468772, 0.8024480572468772, 0.8024480572468772, 0.8024480572468772, 0.8024480572468772, 0.8024480572468772, 0.8024480572468772, 0.8170422446801833, 0.8170422446801833]}], \"f1_score_micro\": [{\"categories\": [\"0\", \"1\", \"2\", \"3\", \"4\", \"5\", \"6\", \"7\", \"8\", \"9\", \"10\", \"11\", \"12\", \"13\", \"14\", \"15\", \"16\", \"17\", \"18\", \"19\", \"20\", \"21\", \"22\", \"23\", \"24\", \"25\", \"26\", \"27\", \"28\", \"29\", \"30\", \"31\", \"32\", \"33\", \"34\", \"35\", \"36\", \"37\", \"38\", \"39\", \"43\", \"44\"], \"mode\": \"markers\", \"name\": \"f1_score_micro\", \"stepped\": false, \"type\": \"scatter\", \"data\": [0.7856004017324713, 0.8013244617412593, 0.784489360366581, 0.7665055552068296, 0.7822735547046638, 0.7620613897432678, 0.7182411650241668, 0.7912246563304249, 0.7777666185424643, 0.7912372104701524, 0.7788776599083548, 0.77996359299479, 0.7867239972380893, 0.7743832778858829, 0.7811311279894546, 0.7979473981545414, 0.7755194275312285, 0.7799761471345177, 0.7822358922854811, 0.7979473981545414, 0.7721611951541021, 0.7182662733036219, 0.7799887012742452, 0.7934718473416608, 0.8024480572468772, 0.6161571778293892, 0.7901261691042621, 0.7878475927437073, 0.7306132697256921, 0.7945891657774151, 0.7755131504613646, 0.7743895549557467, 0.77890276818781, 0.7721549180842382, 0.7755382587408197, 0.7923608059757704, 0.7912372104701525, 0.7598204758018957, 0.8013307388111229, 0.7721486410143745, 0.8170422446801833, 0.8047078023978406]}, {\"categories\": [\"0\", \"1\", \"2\", \"3\", \"4\", \"5\", \"6\", \"7\", \"8\", \"9\", \"10\", \"11\", \"12\", \"13\", \"14\", \"15\", \"16\", \"17\", \"18\", \"19\", \"20\", \"21\", \"22\", \"23\", \"24\", \"25\", \"26\", \"27\", \"28\", \"29\", \"30\", \"31\", \"32\", \"33\", \"34\", \"35\", \"36\", \"37\", \"38\", \"39\", \"43\", \"44\"], \"mode\": \"lines\", \"name\": \"f1_score_micro_max\", \"stepped\": true, \"type\": \"scatter\", \"data\": [0.7856004017324713, 0.8013244617412593, 0.8013244617412593, 0.8013244617412593, 0.8013244617412593, 0.8013244617412593, 0.8013244617412593, 0.8013244617412593, 0.8013244617412593, 0.8013244617412593, 0.8013244617412593, 0.8013244617412593, 0.8013244617412593, 0.8013244617412593, 0.8013244617412593, 0.8013244617412593, 0.8013244617412593, 0.8013244617412593, 0.8013244617412593, 0.8013244617412593, 0.8013244617412593, 0.8013244617412593, 0.8013244617412593, 0.8013244617412593, 0.8024480572468772, 0.8024480572468772, 0.8024480572468772, 0.8024480572468772, 0.8024480572468772, 0.8024480572468772, 0.8024480572468772, 0.8024480572468772, 0.8024480572468772, 0.8024480572468772, 0.8024480572468772, 0.8024480572468772, 0.8024480572468772, 0.8024480572468772, 0.8024480572468772, 0.8024480572468772, 0.8170422446801833, 0.8170422446801833]}], \"norm_macro_recall\": [{\"categories\": [\"0\", \"1\", \"2\", \"3\", \"4\", \"5\", \"6\", \"7\", \"8\", \"9\", \"10\", \"11\", \"12\", \"13\", \"14\", \"15\", \"16\", \"17\", \"18\", \"19\", \"20\", \"21\", \"22\", \"23\", \"24\", \"25\", \"26\", \"27\", \"28\", \"29\", \"30\", \"31\", \"32\", \"33\", \"34\", \"35\", \"36\", \"37\", \"38\", \"39\", \"43\", \"44\"], \"mode\": \"markers\", \"name\": \"norm_macro_recall\", \"stepped\": false, \"type\": \"scatter\", \"data\": [0.5363809099675919, 0.5589216666281888, 0.4989804809612887, 0.4567238522138292, 0.5410428765706243, 0.5342514019549152, 0.2774160839680594, 0.5246982733129558, 0.515688941619225, 0.5577563716884096, 0.5151444744148765, 0.4998170273308623, 0.45362772892804576, 0.4877212458998047, 0.5132023631470098, 0.5208688084250362, 0.45762483206587523, 0.4936911699927755, 0.49315630708998565, 0.5228008927341697, 0.5058858142542372, 0.30023856786287817, 0.4991781916729532, 0.5423383542274248, 0.5629713190257994, 0.0, 0.5244790090369171, 0.4707237476634088, 0.3408956397292745, 0.507765080302452, 0.5042797545850561, 0.4797704558343529, 0.4996565378634507, 0.5287503620947948, 0.5272506700418558, 0.5314749932084357, 0.5574699413267914, 0.5267748223246433, 0.5516640909474668, 0.48903418586406044, 0.574309014995001, 0.5448270908621036]}, {\"categories\": [\"0\", \"1\", \"2\", \"3\", \"4\", \"5\", \"6\", \"7\", \"8\", \"9\", \"10\", \"11\", \"12\", \"13\", \"14\", \"15\", \"16\", \"17\", \"18\", \"19\", \"20\", \"21\", \"22\", \"23\", \"24\", \"25\", \"26\", \"27\", \"28\", \"29\", \"30\", \"31\", \"32\", \"33\", \"34\", \"35\", \"36\", \"37\", \"38\", \"39\", \"43\", \"44\"], \"mode\": \"lines\", \"name\": \"norm_macro_recall_max\", \"stepped\": true, \"type\": \"scatter\", \"data\": [0.5363809099675919, 0.5589216666281888, 0.5589216666281888, 0.5589216666281888, 0.5589216666281888, 0.5589216666281888, 0.5589216666281888, 0.5589216666281888, 0.5589216666281888, 0.5589216666281888, 0.5589216666281888, 0.5589216666281888, 0.5589216666281888, 0.5589216666281888, 0.5589216666281888, 0.5589216666281888, 0.5589216666281888, 0.5589216666281888, 0.5589216666281888, 0.5589216666281888, 0.5589216666281888, 0.5589216666281888, 0.5589216666281888, 0.5589216666281888, 0.5629713190257994, 0.5629713190257994, 0.5629713190257994, 0.5629713190257994, 0.5629713190257994, 0.5629713190257994, 0.5629713190257994, 0.5629713190257994, 0.5629713190257994, 0.5629713190257994, 0.5629713190257994, 0.5629713190257994, 0.5629713190257994, 0.5629713190257994, 0.5629713190257994, 0.5629713190257994, 0.574309014995001, 0.574309014995001]}], \"weighted_accuracy\": [{\"categories\": [\"0\", \"1\", \"2\", \"3\", \"4\", \"5\", \"6\", \"7\", \"8\", \"9\", \"10\", \"11\", \"12\", \"13\", \"14\", \"15\", \"16\", \"17\", \"18\", \"19\", \"20\", \"21\", \"22\", \"23\", \"24\", \"25\", \"26\", \"27\", \"28\", \"29\", \"30\", \"31\", \"32\", \"33\", \"34\", \"35\", \"36\", \"37\", \"38\", \"39\", \"43\", \"44\"], \"mode\": \"markers\", \"name\": \"weighted_accuracy\", \"stepped\": false, \"type\": \"scatter\", \"data\": [0.8011912975827716, 0.8205994101072085, 0.8141608754210828, 0.8000597464811676, 0.7927118702071192, 0.7584893565824873, 0.7865321326987281, 0.816559854335846, 0.7953418962817753, 0.8019764278125793, 0.7978527314120203, 0.8056321123171017, 0.8378188594762694, 0.8014874918162318, 0.8027033496745737, 0.830421329999649, 0.8156770029886106, 0.8090920794634684, 0.813552899192046, 0.8296888105767856, 0.7891628098744425, 0.7769577809017245, 0.806077293859944, 0.812939593066637, 0.8208911388797698, 0.7154856197517837, 0.81476058205727, 0.8333127551477455, 0.7823997639634862, 0.8299006853339792, 0.7960884164908586, 0.8049701204396584, 0.8046504075292804, 0.7790586725058859, 0.785966328262113, 0.8156882628507128, 0.80208569139301, 0.7567225730933727, 0.8238670346862698, 0.7969814400492929, 0.8430560788243839, 0.8329948362484011]}, {\"categories\": [\"0\", \"1\", \"2\", \"3\", \"4\", \"5\", \"6\", \"7\", \"8\", \"9\", \"10\", \"11\", \"12\", \"13\", \"14\", \"15\", \"16\", \"17\", \"18\", \"19\", \"20\", \"21\", \"22\", \"23\", \"24\", \"25\", \"26\", \"27\", \"28\", \"29\", \"30\", \"31\", \"32\", \"33\", \"34\", \"35\", \"36\", \"37\", \"38\", \"39\", \"43\", \"44\"], \"mode\": \"lines\", \"name\": \"weighted_accuracy_max\", \"stepped\": true, \"type\": \"scatter\", \"data\": [0.8011912975827716, 0.8205994101072085, 0.8205994101072085, 0.8205994101072085, 0.8205994101072085, 0.8205994101072085, 0.8205994101072085, 0.8205994101072085, 0.8205994101072085, 0.8205994101072085, 0.8205994101072085, 0.8205994101072085, 0.8378188594762694, 0.8378188594762694, 0.8378188594762694, 0.8378188594762694, 0.8378188594762694, 0.8378188594762694, 0.8378188594762694, 0.8378188594762694, 0.8378188594762694, 0.8378188594762694, 0.8378188594762694, 0.8378188594762694, 0.8378188594762694, 0.8378188594762694, 0.8378188594762694, 0.8378188594762694, 0.8378188594762694, 0.8378188594762694, 0.8378188594762694, 0.8378188594762694, 0.8378188594762694, 0.8378188594762694, 0.8378188594762694, 0.8378188594762694, 0.8378188594762694, 0.8378188594762694, 0.8378188594762694, 0.8378188594762694, 0.8430560788243839, 0.8430560788243839]}], \"recall_score_weighted\": [{\"categories\": [\"0\", \"1\", \"2\", \"3\", \"4\", \"5\", \"6\", \"7\", \"8\", \"9\", \"10\", \"11\", \"12\", \"13\", \"14\", \"15\", \"16\", \"17\", \"18\", \"19\", \"20\", \"21\", \"22\", \"23\", \"24\", \"25\", \"26\", \"27\", \"28\", \"29\", \"30\", \"31\", \"32\", \"33\", \"34\", \"35\", \"36\", \"37\", \"38\", \"39\", \"43\", \"44\"], \"mode\": \"markers\", \"name\": \"recall_score_weighted\", \"stepped\": false, \"type\": \"scatter\", \"data\": [0.7856004017324713, 0.8013244617412593, 0.784489360366581, 0.7665055552068295, 0.7822735547046639, 0.7620613897432678, 0.7182411650241668, 0.7912246563304249, 0.7777666185424643, 0.7912372104701525, 0.7788776599083548, 0.7799635929947899, 0.7867239972380893, 0.7743832778858829, 0.7811311279894546, 0.7979473981545414, 0.7755194275312285, 0.7799761471345176, 0.7822358922854811, 0.7979473981545414, 0.7721611951541021, 0.7182662733036219, 0.7799887012742451, 0.7934718473416609, 0.8024480572468772, 0.6161571778293892, 0.7901261691042621, 0.7878475927437073, 0.730613269725692, 0.7945891657774151, 0.7755131504613646, 0.7743895549557467, 0.7789027681878099, 0.7721549180842383, 0.7755382587408197, 0.7923608059757705, 0.7912372104701525, 0.7598204758018956, 0.8013307388111229, 0.7721486410143745, 0.8170422446801833, 0.8047078023978406]}, {\"categories\": [\"0\", \"1\", \"2\", \"3\", \"4\", \"5\", \"6\", \"7\", \"8\", \"9\", \"10\", \"11\", \"12\", \"13\", \"14\", \"15\", \"16\", \"17\", \"18\", \"19\", \"20\", \"21\", \"22\", \"23\", \"24\", \"25\", \"26\", \"27\", \"28\", \"29\", \"30\", \"31\", \"32\", \"33\", \"34\", \"35\", \"36\", \"37\", \"38\", \"39\", \"43\", \"44\"], \"mode\": \"lines\", \"name\": \"recall_score_weighted_max\", \"stepped\": true, \"type\": \"scatter\", \"data\": [0.7856004017324713, 0.8013244617412593, 0.8013244617412593, 0.8013244617412593, 0.8013244617412593, 0.8013244617412593, 0.8013244617412593, 0.8013244617412593, 0.8013244617412593, 0.8013244617412593, 0.8013244617412593, 0.8013244617412593, 0.8013244617412593, 0.8013244617412593, 0.8013244617412593, 0.8013244617412593, 0.8013244617412593, 0.8013244617412593, 0.8013244617412593, 0.8013244617412593, 0.8013244617412593, 0.8013244617412593, 0.8013244617412593, 0.8013244617412593, 0.8024480572468772, 0.8024480572468772, 0.8024480572468772, 0.8024480572468772, 0.8024480572468772, 0.8024480572468772, 0.8024480572468772, 0.8024480572468772, 0.8024480572468772, 0.8024480572468772, 0.8024480572468772, 0.8024480572468772, 0.8024480572468772, 0.8024480572468772, 0.8024480572468772, 0.8024480572468772, 0.8170422446801833, 0.8170422446801833]}], \"precision_score_micro\": [{\"categories\": [\"0\", \"1\", \"2\", \"3\", \"4\", \"5\", \"6\", \"7\", \"8\", \"9\", \"10\", \"11\", \"12\", \"13\", \"14\", \"15\", \"16\", \"17\", \"18\", \"19\", \"20\", \"21\", \"22\", \"23\", \"24\", \"25\", \"26\", \"27\", \"28\", \"29\", \"30\", \"31\", \"32\", \"33\", \"34\", \"35\", \"36\", \"37\", \"38\", \"39\", \"43\", \"44\"], \"mode\": \"markers\", \"name\": \"precision_score_micro\", \"stepped\": false, \"type\": \"scatter\", \"data\": [0.7856004017324713, 0.8013244617412593, 0.784489360366581, 0.7665055552068295, 0.7822735547046639, 0.7620613897432678, 0.7182411650241668, 0.7912246563304249, 0.7777666185424643, 0.7912372104701525, 0.7788776599083548, 0.7799635929947899, 0.7867239972380893, 0.7743832778858829, 0.7811311279894546, 0.7979473981545414, 0.7755194275312285, 0.7799761471345176, 0.7822358922854811, 0.7979473981545414, 0.7721611951541021, 0.7182662733036219, 0.7799887012742451, 0.7934718473416609, 0.8024480572468772, 0.6161571778293892, 0.7901261691042621, 0.7878475927437073, 0.730613269725692, 0.7945891657774151, 0.7755131504613646, 0.7743895549557467, 0.7789027681878099, 0.7721549180842383, 0.7755382587408197, 0.7923608059757705, 0.7912372104701525, 0.7598204758018956, 0.8013307388111229, 0.7721486410143745, 0.8170422446801833, 0.8047078023978406]}, {\"categories\": [\"0\", \"1\", \"2\", \"3\", \"4\", \"5\", \"6\", \"7\", \"8\", \"9\", \"10\", \"11\", \"12\", \"13\", \"14\", \"15\", \"16\", \"17\", \"18\", \"19\", \"20\", \"21\", \"22\", \"23\", \"24\", \"25\", \"26\", \"27\", \"28\", \"29\", \"30\", \"31\", \"32\", \"33\", \"34\", \"35\", \"36\", \"37\", \"38\", \"39\", \"43\", \"44\"], \"mode\": \"lines\", \"name\": \"precision_score_micro_max\", \"stepped\": true, \"type\": \"scatter\", \"data\": [0.7856004017324713, 0.8013244617412593, 0.8013244617412593, 0.8013244617412593, 0.8013244617412593, 0.8013244617412593, 0.8013244617412593, 0.8013244617412593, 0.8013244617412593, 0.8013244617412593, 0.8013244617412593, 0.8013244617412593, 0.8013244617412593, 0.8013244617412593, 0.8013244617412593, 0.8013244617412593, 0.8013244617412593, 0.8013244617412593, 0.8013244617412593, 0.8013244617412593, 0.8013244617412593, 0.8013244617412593, 0.8013244617412593, 0.8013244617412593, 0.8024480572468772, 0.8024480572468772, 0.8024480572468772, 0.8024480572468772, 0.8024480572468772, 0.8024480572468772, 0.8024480572468772, 0.8024480572468772, 0.8024480572468772, 0.8024480572468772, 0.8024480572468772, 0.8024480572468772, 0.8024480572468772, 0.8024480572468772, 0.8024480572468772, 0.8024480572468772, 0.8170422446801833, 0.8170422446801833]}], \"average_precision_score_micro\": [{\"categories\": [\"0\", \"1\", \"2\", \"3\", \"4\", \"5\", \"6\", \"7\", \"8\", \"9\", \"10\", \"11\", \"12\", \"13\", \"14\", \"15\", \"16\", \"17\", \"18\", \"19\", \"20\", \"21\", \"22\", \"23\", \"24\", \"25\", \"26\", \"27\", \"28\", \"29\", \"30\", \"31\", \"32\", \"33\", \"34\", \"35\", \"36\", \"37\", \"38\", \"39\", \"43\", \"44\"], \"mode\": \"markers\", \"name\": \"average_precision_score_micro\", \"stepped\": false, \"type\": \"scatter\", \"data\": [0.8198909630412217, 0.8550873560810377, 0.842843784686363, 0.8257081738470167, 0.8423184502351798, 0.8216209097841942, 0.7859333549465608, 0.8521476692348469, 0.824121582572662, 0.8486323807103033, 0.8321908375798037, 0.8375737666205243, 0.8407612107024033, 0.857935401971208, 0.8356904130707596, 0.8656119605636821, 0.8235117531372319, 0.8280491781393291, 0.830219690474833, 0.8627069469774152, 0.8237349446269715, 0.7856829245315784, 0.8290502437107083, 0.8458898827084214, 0.8511576230812979, 0.5737148698284609, 0.8453428997395844, 0.8393019571146599, 0.7708995056753534, 0.8428868145314402, 0.8410514937145711, 0.8296996180199374, 0.8539739614485355, 0.8398563551264298, 0.8579429323647473, 0.851523898412853, 0.8458580235173272, 0.828110191733583, 0.852957153171603, 0.843763323421363, 0.8526124365242527, 0.8574514193345998]}, {\"categories\": [\"0\", \"1\", \"2\", \"3\", \"4\", \"5\", \"6\", \"7\", \"8\", \"9\", \"10\", \"11\", \"12\", \"13\", \"14\", \"15\", \"16\", \"17\", \"18\", \"19\", \"20\", \"21\", \"22\", \"23\", \"24\", \"25\", \"26\", \"27\", \"28\", \"29\", \"30\", \"31\", \"32\", \"33\", \"34\", \"35\", \"36\", \"37\", \"38\", \"39\", \"43\", \"44\"], \"mode\": \"lines\", \"name\": \"average_precision_score_micro_max\", \"stepped\": true, \"type\": \"scatter\", \"data\": [0.8198909630412217, 0.8550873560810377, 0.8550873560810377, 0.8550873560810377, 0.8550873560810377, 0.8550873560810377, 0.8550873560810377, 0.8550873560810377, 0.8550873560810377, 0.8550873560810377, 0.8550873560810377, 0.8550873560810377, 0.8550873560810377, 0.857935401971208, 0.857935401971208, 0.8656119605636821, 0.8656119605636821, 0.8656119605636821, 0.8656119605636821, 0.8656119605636821, 0.8656119605636821, 0.8656119605636821, 0.8656119605636821, 0.8656119605636821, 0.8656119605636821, 0.8656119605636821, 0.8656119605636821, 0.8656119605636821, 0.8656119605636821, 0.8656119605636821, 0.8656119605636821, 0.8656119605636821, 0.8656119605636821, 0.8656119605636821, 0.8656119605636821, 0.8656119605636821, 0.8656119605636821, 0.8656119605636821, 0.8656119605636821, 0.8656119605636821, 0.8656119605636821, 0.8656119605636821]}], \"average_precision_score_macro\": [{\"categories\": [\"0\", \"1\", \"2\", \"3\", \"4\", \"5\", \"6\", \"7\", \"8\", \"9\", \"10\", \"11\", \"12\", \"13\", \"14\", \"15\", \"16\", \"17\", \"18\", \"19\", \"20\", \"21\", \"22\", \"23\", \"24\", \"25\", \"26\", \"27\", \"28\", \"29\", \"30\", \"31\", \"32\", \"33\", \"34\", \"35\", \"36\", \"37\", \"38\", \"39\", \"43\", \"44\"], \"mode\": \"markers\", \"name\": \"average_precision_score_macro\", \"stepped\": false, \"type\": \"scatter\", \"data\": [0.8070683865912285, 0.8486467160217606, 0.8376417287146312, 0.8313519377552471, 0.8302956588364936, 0.8260116580409752, 0.8238916649493795, 0.8353223707323549, 0.8079354157442108, 0.841403413674754, 0.8146999096015582, 0.8297579965054732, 0.8432262304834444, 0.8483537772542753, 0.8305264982733209, 0.8444832599579752, 0.8278068088079069, 0.8274930134414792, 0.8307210507178817, 0.8398179386361122, 0.8082081277612433, 0.7984648756362598, 0.8210759425867439, 0.8269016078987022, 0.8323943387685702, 0.5, 0.8437105216492734, 0.8392540034637463, 0.7696267858978079, 0.8388005873183811, 0.8226073085280389, 0.8039615100604053, 0.83592213438922, 0.8282466917241076, 0.8398026782450223, 0.8337795231833727, 0.8370551483651234, 0.8424489091477421, 0.8381955939127257, 0.8089983211182368, 0.8478510347497522, 0.8499819746825535]}, {\"categories\": [\"0\", \"1\", \"2\", \"3\", \"4\", \"5\", \"6\", \"7\", \"8\", \"9\", \"10\", \"11\", \"12\", \"13\", \"14\", \"15\", \"16\", \"17\", \"18\", \"19\", \"20\", \"21\", \"22\", \"23\", \"24\", \"25\", \"26\", \"27\", \"28\", \"29\", \"30\", \"31\", \"32\", \"33\", \"34\", \"35\", \"36\", \"37\", \"38\", \"39\", \"43\", \"44\"], \"mode\": \"lines\", \"name\": \"average_precision_score_macro_max\", \"stepped\": true, \"type\": \"scatter\", \"data\": [0.8070683865912285, 0.8486467160217606, 0.8486467160217606, 0.8486467160217606, 0.8486467160217606, 0.8486467160217606, 0.8486467160217606, 0.8486467160217606, 0.8486467160217606, 0.8486467160217606, 0.8486467160217606, 0.8486467160217606, 0.8486467160217606, 0.8486467160217606, 0.8486467160217606, 0.8486467160217606, 0.8486467160217606, 0.8486467160217606, 0.8486467160217606, 0.8486467160217606, 0.8486467160217606, 0.8486467160217606, 0.8486467160217606, 0.8486467160217606, 0.8486467160217606, 0.8486467160217606, 0.8486467160217606, 0.8486467160217606, 0.8486467160217606, 0.8486467160217606, 0.8486467160217606, 0.8486467160217606, 0.8486467160217606, 0.8486467160217606, 0.8486467160217606, 0.8486467160217606, 0.8486467160217606, 0.8486467160217606, 0.8486467160217606, 0.8486467160217606, 0.8486467160217606, 0.8499819746825535]}], \"log_loss\": [{\"categories\": [\"0\", \"1\", \"2\", \"3\", \"4\", \"5\", \"6\", \"7\", \"8\", \"9\", \"10\", \"11\", \"12\", \"13\", \"14\", \"15\", \"16\", \"17\", \"18\", \"19\", \"20\", \"21\", \"22\", \"23\", \"24\", \"25\", \"26\", \"27\", \"28\", \"29\", \"30\", \"31\", \"32\", \"33\", \"34\", \"35\", \"36\", \"37\", \"38\", \"39\", \"43\", \"44\"], \"mode\": \"markers\", \"name\": \"log_loss\", \"stepped\": false, \"type\": \"scatter\", \"data\": [0.5774268090032681, 0.45438625139796357, 0.4880937548388589, 0.5197545153419993, 0.4972083972974426, 0.5374030087050202, 0.5825706022015507, 0.4544352754751014, 0.5179742743378128, 0.47032254078903357, 0.4954350993499343, 0.5184746583295551, 0.5018957339662997, 0.4576307596175176, 0.4710962388031087, 0.44694814992504944, 0.5311221636084307, 0.49894385142976566, 0.5092801656927414, 0.4474318414813238, 0.5136458188764976, 0.5731461891116127, 0.5351717258183074, 0.4660918858749568, 0.462513382044626, 0.6686213190967999, 0.4748215483278303, 0.5025036208004935, 0.5811977935476852, 0.4594906060576859, 0.5048719624375186, 0.5200794268765092, 0.4608724255621402, 0.4855476376648622, 0.4744391395233663, 0.45653473108282805, 0.47193244343955537, 0.5216808738564673, 0.4604895105305685, 0.5128034792543972, 0.45379075077023134, 0.4558419310517837]}, {\"categories\": [\"0\", \"1\", \"2\", \"3\", \"4\", \"5\", \"6\", \"7\", \"8\", \"9\", \"10\", \"11\", \"12\", \"13\", \"14\", \"15\", \"16\", \"17\", \"18\", \"19\", \"20\", \"21\", \"22\", \"23\", \"24\", \"25\", \"26\", \"27\", \"28\", \"29\", \"30\", \"31\", \"32\", \"33\", \"34\", \"35\", \"36\", \"37\", \"38\", \"39\", \"43\", \"44\"], \"mode\": \"lines\", \"name\": \"log_loss_min\", \"stepped\": true, \"type\": \"scatter\", \"data\": [0.5774268090032681, 0.45438625139796357, 0.45438625139796357, 0.45438625139796357, 0.45438625139796357, 0.45438625139796357, 0.45438625139796357, 0.45438625139796357, 0.45438625139796357, 0.45438625139796357, 0.45438625139796357, 0.45438625139796357, 0.45438625139796357, 0.45438625139796357, 0.45438625139796357, 0.44694814992504944, 0.44694814992504944, 0.44694814992504944, 0.44694814992504944, 0.44694814992504944, 0.44694814992504944, 0.44694814992504944, 0.44694814992504944, 0.44694814992504944, 0.44694814992504944, 0.44694814992504944, 0.44694814992504944, 0.44694814992504944, 0.44694814992504944, 0.44694814992504944, 0.44694814992504944, 0.44694814992504944, 0.44694814992504944, 0.44694814992504944, 0.44694814992504944, 0.44694814992504944, 0.44694814992504944, 0.44694814992504944, 0.44694814992504944, 0.44694814992504944, 0.44694814992504944, 0.44694814992504944]}], \"recall_score_micro\": [{\"categories\": [\"0\", \"1\", \"2\", \"3\", \"4\", \"5\", \"6\", \"7\", \"8\", \"9\", \"10\", \"11\", \"12\", \"13\", \"14\", \"15\", \"16\", \"17\", \"18\", \"19\", \"20\", \"21\", \"22\", \"23\", \"24\", \"25\", \"26\", \"27\", \"28\", \"29\", \"30\", \"31\", \"32\", \"33\", \"34\", \"35\", \"36\", \"37\", \"38\", \"39\", \"43\", \"44\"], \"mode\": \"markers\", \"name\": \"recall_score_micro\", \"stepped\": false, \"type\": \"scatter\", \"data\": [0.7856004017324713, 0.8013244617412593, 0.784489360366581, 0.7665055552068295, 0.7822735547046639, 0.7620613897432678, 0.7182411650241668, 0.7912246563304249, 0.7777666185424643, 0.7912372104701525, 0.7788776599083548, 0.7799635929947899, 0.7867239972380893, 0.7743832778858829, 0.7811311279894546, 0.7979473981545414, 0.7755194275312285, 0.7799761471345176, 0.7822358922854811, 0.7979473981545414, 0.7721611951541021, 0.7182662733036219, 0.7799887012742451, 0.7934718473416609, 0.8024480572468772, 0.6161571778293892, 0.7901261691042621, 0.7878475927437073, 0.730613269725692, 0.7945891657774151, 0.7755131504613646, 0.7743895549557467, 0.7789027681878099, 0.7721549180842383, 0.7755382587408197, 0.7923608059757705, 0.7912372104701525, 0.7598204758018956, 0.8013307388111229, 0.7721486410143745, 0.8170422446801833, 0.8047078023978406]}, {\"categories\": [\"0\", \"1\", \"2\", \"3\", \"4\", \"5\", \"6\", \"7\", \"8\", \"9\", \"10\", \"11\", \"12\", \"13\", \"14\", \"15\", \"16\", \"17\", \"18\", \"19\", \"20\", \"21\", \"22\", \"23\", \"24\", \"25\", \"26\", \"27\", \"28\", \"29\", \"30\", \"31\", \"32\", \"33\", \"34\", \"35\", \"36\", \"37\", \"38\", \"39\", \"43\", \"44\"], \"mode\": \"lines\", \"name\": \"recall_score_micro_max\", \"stepped\": true, \"type\": \"scatter\", \"data\": [0.7856004017324713, 0.8013244617412593, 0.8013244617412593, 0.8013244617412593, 0.8013244617412593, 0.8013244617412593, 0.8013244617412593, 0.8013244617412593, 0.8013244617412593, 0.8013244617412593, 0.8013244617412593, 0.8013244617412593, 0.8013244617412593, 0.8013244617412593, 0.8013244617412593, 0.8013244617412593, 0.8013244617412593, 0.8013244617412593, 0.8013244617412593, 0.8013244617412593, 0.8013244617412593, 0.8013244617412593, 0.8013244617412593, 0.8013244617412593, 0.8024480572468772, 0.8024480572468772, 0.8024480572468772, 0.8024480572468772, 0.8024480572468772, 0.8024480572468772, 0.8024480572468772, 0.8024480572468772, 0.8024480572468772, 0.8024480572468772, 0.8024480572468772, 0.8024480572468772, 0.8024480572468772, 0.8024480572468772, 0.8024480572468772, 0.8024480572468772, 0.8170422446801833, 0.8170422446801833]}], \"AUC_macro\": [{\"categories\": [\"0\", \"1\", \"2\", \"3\", \"4\", \"5\", \"6\", \"7\", \"8\", \"9\", \"10\", \"11\", \"12\", \"13\", \"14\", \"15\", \"16\", \"17\", \"18\", \"19\", \"20\", \"21\", \"22\", \"23\", \"24\", \"25\", \"26\", \"27\", \"28\", \"29\", \"30\", \"31\", \"32\", \"33\", \"34\", \"35\", \"36\", \"37\", \"38\", \"39\", \"43\", \"44\"], \"mode\": \"markers\", \"name\": \"AUC_macro\", \"stepped\": false, \"type\": \"scatter\", \"data\": [0.8134024140985826, 0.85239977654463, 0.8416550205918112, 0.8307902271860682, 0.8380517441319435, 0.8375069616531793, 0.829919546723904, 0.8434157982812115, 0.8126781226503237, 0.8486035922192491, 0.816053785915873, 0.8314080854960235, 0.8493945229100692, 0.8482916078019581, 0.8372447836425607, 0.8470699034314801, 0.8306127818256602, 0.8357897943623366, 0.8381820203398815, 0.8444496361254936, 0.8124184448435683, 0.8089985869881382, 0.828865714194469, 0.8326572147660668, 0.8401737691611493, 0.5, 0.8487310473784208, 0.8454171669376297, 0.7791401861796416, 0.845206932958235, 0.8263628455996697, 0.8277512725200837, 0.8443080767165354, 0.8318117989342525, 0.8440769116854577, 0.8401935634938189, 0.8458477203023683, 0.8418345212850378, 0.8431323219338391, 0.8347910324375247, 0.8514507930498969, 0.852459547513557]}, {\"categories\": [\"0\", \"1\", \"2\", \"3\", \"4\", \"5\", \"6\", \"7\", \"8\", \"9\", \"10\", \"11\", \"12\", \"13\", \"14\", \"15\", \"16\", \"17\", \"18\", \"19\", \"20\", \"21\", \"22\", \"23\", \"24\", \"25\", \"26\", \"27\", \"28\", \"29\", \"30\", \"31\", \"32\", \"33\", \"34\", \"35\", \"36\", \"37\", \"38\", \"39\", \"43\", \"44\"], \"mode\": \"lines\", \"name\": \"AUC_macro_max\", \"stepped\": true, \"type\": \"scatter\", \"data\": [0.8134024140985826, 0.85239977654463, 0.85239977654463, 0.85239977654463, 0.85239977654463, 0.85239977654463, 0.85239977654463, 0.85239977654463, 0.85239977654463, 0.85239977654463, 0.85239977654463, 0.85239977654463, 0.85239977654463, 0.85239977654463, 0.85239977654463, 0.85239977654463, 0.85239977654463, 0.85239977654463, 0.85239977654463, 0.85239977654463, 0.85239977654463, 0.85239977654463, 0.85239977654463, 0.85239977654463, 0.85239977654463, 0.85239977654463, 0.85239977654463, 0.85239977654463, 0.85239977654463, 0.85239977654463, 0.85239977654463, 0.85239977654463, 0.85239977654463, 0.85239977654463, 0.85239977654463, 0.85239977654463, 0.85239977654463, 0.85239977654463, 0.85239977654463, 0.85239977654463, 0.85239977654463, 0.852459547513557]}], \"matthews_correlation\": [{\"categories\": [\"0\", \"1\", \"2\", \"3\", \"4\", \"5\", \"6\", \"7\", \"8\", \"9\", \"10\", \"11\", \"12\", \"13\", \"14\", \"15\", \"16\", \"17\", \"18\", \"19\", \"20\", \"21\", \"22\", \"23\", \"24\", \"25\", \"26\", \"27\", \"28\", \"29\", \"30\", \"31\", \"32\", \"33\", \"34\", \"35\", \"36\", \"37\", \"38\", \"39\", \"43\", \"44\"], \"mode\": \"markers\", \"name\": \"matthews_correlation\", \"stepped\": false, \"type\": \"scatter\", \"data\": [0.5480495572929854, 0.577564937085395, 0.5304737642575897, 0.5068202725176304, 0.5417205822581995, 0.5274130169179967, 0.41659766654078184, 0.5574517869384655, 0.5296909575893258, 0.5574990051089813, 0.5326817969369081, 0.5239388811538885, 0.5616665408484811, 0.530219816511171, 0.5327540441021201, 0.5683891976492227, 0.5235290823680274, 0.5320653893551506, 0.5385769542040915, 0.5692117556387128, 0.5179542058211164, 0.39767172681617147, 0.5260626093880638, 0.5575448354153165, 0.5801801843890061, 0.0, 0.5556114938773347, 0.5630890835981359, 0.4164751163186671, 0.5648918639171245, 0.5233285371385222, 0.5341627419758254, 0.5335931992504934, 0.5238702903432575, 0.5262996863804514, 0.556859499178878, 0.5573642743879932, 0.5152105291086698, 0.5787749060822996, 0.5298794011411913, 0.6100786487735114, 0.5852576609621662]}, {\"categories\": [\"0\", \"1\", \"2\", \"3\", \"4\", \"5\", \"6\", \"7\", \"8\", \"9\", \"10\", \"11\", \"12\", \"13\", \"14\", \"15\", \"16\", \"17\", \"18\", \"19\", \"20\", \"21\", \"22\", \"23\", \"24\", \"25\", \"26\", \"27\", \"28\", \"29\", \"30\", \"31\", \"32\", \"33\", \"34\", \"35\", \"36\", \"37\", \"38\", \"39\", \"43\", \"44\"], \"mode\": \"lines\", \"name\": \"matthews_correlation_max\", \"stepped\": true, \"type\": \"scatter\", \"data\": [0.5480495572929854, 0.577564937085395, 0.577564937085395, 0.577564937085395, 0.577564937085395, 0.577564937085395, 0.577564937085395, 0.577564937085395, 0.577564937085395, 0.577564937085395, 0.577564937085395, 0.577564937085395, 0.577564937085395, 0.577564937085395, 0.577564937085395, 0.577564937085395, 0.577564937085395, 0.577564937085395, 0.577564937085395, 0.577564937085395, 0.577564937085395, 0.577564937085395, 0.577564937085395, 0.577564937085395, 0.5801801843890061, 0.5801801843890061, 0.5801801843890061, 0.5801801843890061, 0.5801801843890061, 0.5801801843890061, 0.5801801843890061, 0.5801801843890061, 0.5801801843890061, 0.5801801843890061, 0.5801801843890061, 0.5801801843890061, 0.5801801843890061, 0.5801801843890061, 0.5801801843890061, 0.5801801843890061, 0.6100786487735114, 0.6100786487735114]}], \"precision_score_macro\": [{\"categories\": [\"0\", \"1\", \"2\", \"3\", \"4\", \"5\", \"6\", \"7\", \"8\", \"9\", \"10\", \"11\", \"12\", \"13\", \"14\", \"15\", \"16\", \"17\", \"18\", \"19\", \"20\", \"21\", \"22\", \"23\", \"24\", \"25\", \"26\", \"27\", \"28\", \"29\", \"30\", \"31\", \"32\", \"33\", \"34\", \"35\", \"36\", \"37\", \"38\", \"39\", \"43\", \"44\"], \"mode\": \"markers\", \"name\": \"precision_score_macro\", \"stepped\": false, \"type\": \"scatter\", \"data\": [0.7806162950773893, 0.7990375591563545, 0.7820760098671842, 0.782924399158657, 0.7714980958172906, 0.7605514772660296, 0.8150521233635093, 0.7967373472394593, 0.7726442750392922, 0.7787858356744768, 0.7761196476127925, 0.7748656554910077, 0.8485575163501944, 0.7900488847270062, 0.7770583818583832, 0.8105538765291798, 0.8004800019351626, 0.7875993466407002, 0.795219117876757, 0.8103863869215406, 0.7657082934685224, 0.7653499686102816, 0.7776254555995936, 0.7868109305917432, 0.7997795753585931, 0.3080785889146946, 0.7953221841938697, 0.8381543889476513, 0.7550705642518389, 0.8145947844378469, 0.7720869310881228, 0.8002601317553069, 0.785841503307251, 0.759687231263007, 0.7628273073936549, 0.7921950099690045, 0.7787913345440887, 0.7520854667046946, 0.8042171629863166, 0.7898055670510216, 0.8244377761080314, 0.8149616043500887]}, {\"categories\": [\"0\", \"1\", \"2\", \"3\", \"4\", \"5\", \"6\", \"7\", \"8\", \"9\", \"10\", \"11\", \"12\", \"13\", \"14\", \"15\", \"16\", \"17\", \"18\", \"19\", \"20\", \"21\", \"22\", \"23\", \"24\", \"25\", \"26\", \"27\", \"28\", \"29\", \"30\", \"31\", \"32\", \"33\", \"34\", \"35\", \"36\", \"37\", \"38\", \"39\", \"43\", \"44\"], \"mode\": \"lines\", \"name\": \"precision_score_macro_max\", \"stepped\": true, \"type\": \"scatter\", \"data\": [0.7806162950773893, 0.7990375591563545, 0.7990375591563545, 0.7990375591563545, 0.7990375591563545, 0.7990375591563545, 0.8150521233635093, 0.8150521233635093, 0.8150521233635093, 0.8150521233635093, 0.8150521233635093, 0.8150521233635093, 0.8485575163501944, 0.8485575163501944, 0.8485575163501944, 0.8485575163501944, 0.8485575163501944, 0.8485575163501944, 0.8485575163501944, 0.8485575163501944, 0.8485575163501944, 0.8485575163501944, 0.8485575163501944, 0.8485575163501944, 0.8485575163501944, 0.8485575163501944, 0.8485575163501944, 0.8485575163501944, 0.8485575163501944, 0.8485575163501944, 0.8485575163501944, 0.8485575163501944, 0.8485575163501944, 0.8485575163501944, 0.8485575163501944, 0.8485575163501944, 0.8485575163501944, 0.8485575163501944, 0.8485575163501944, 0.8485575163501944, 0.8485575163501944, 0.8485575163501944]}], \"precision_score_weighted\": [{\"categories\": [\"0\", \"1\", \"2\", \"3\", \"4\", \"5\", \"6\", \"7\", \"8\", \"9\", \"10\", \"11\", \"12\", \"13\", \"14\", \"15\", \"16\", \"17\", \"18\", \"19\", \"20\", \"21\", \"22\", \"23\", \"24\", \"25\", \"26\", \"27\", \"28\", \"29\", \"30\", \"31\", \"32\", \"33\", \"34\", \"35\", \"36\", \"37\", \"38\", \"39\", \"43\", \"44\"], \"mode\": \"markers\", \"name\": \"precision_score_weighted\", \"stepped\": false, \"type\": \"scatter\", \"data\": [0.7924655446016111, 0.807124463945842, 0.7854931009025174, 0.7836202959163798, 0.7881156979188819, 0.7849041301738959, 0.7889793424196937, 0.8014834685923168, 0.7849525849544031, 0.7947786165695125, 0.7871235919184015, 0.7827091948129276, 0.8270069541417069, 0.7942379248413625, 0.7858086497993961, 0.8086888927294236, 0.794095967978141, 0.7905948006239825, 0.7957594183267784, 0.8089805687367198, 0.7794808005949808, 0.7543439473043694, 0.7845774956431636, 0.7961745529811055, 0.8084177481332032, 0.3817934587431555, 0.8002335794864083, 0.8231442045044775, 0.7511928416657281, 0.8105747534864995, 0.783233636494219, 0.8010898954502723, 0.7916551836317114, 0.7794128989853375, 0.7796538331558956, 0.7989287387979843, 0.7946099919957472, 0.7775832717476813, 0.8102831416847456, 0.7960869307793231, 0.8252364525903862, 0.815496000042932]}, {\"categories\": [\"0\", \"1\", \"2\", \"3\", \"4\", \"5\", \"6\", \"7\", \"8\", \"9\", \"10\", \"11\", \"12\", \"13\", \"14\", \"15\", \"16\", \"17\", \"18\", \"19\", \"20\", \"21\", \"22\", \"23\", \"24\", \"25\", \"26\", \"27\", \"28\", \"29\", \"30\", \"31\", \"32\", \"33\", \"34\", \"35\", \"36\", \"37\", \"38\", \"39\", \"43\", \"44\"], \"mode\": \"lines\", \"name\": \"precision_score_weighted_max\", \"stepped\": true, \"type\": \"scatter\", \"data\": [0.7924655446016111, 0.807124463945842, 0.807124463945842, 0.807124463945842, 0.807124463945842, 0.807124463945842, 0.807124463945842, 0.807124463945842, 0.807124463945842, 0.807124463945842, 0.807124463945842, 0.807124463945842, 0.8270069541417069, 0.8270069541417069, 0.8270069541417069, 0.8270069541417069, 0.8270069541417069, 0.8270069541417069, 0.8270069541417069, 0.8270069541417069, 0.8270069541417069, 0.8270069541417069, 0.8270069541417069, 0.8270069541417069, 0.8270069541417069, 0.8270069541417069, 0.8270069541417069, 0.8270069541417069, 0.8270069541417069, 0.8270069541417069, 0.8270069541417069, 0.8270069541417069, 0.8270069541417069, 0.8270069541417069, 0.8270069541417069, 0.8270069541417069, 0.8270069541417069, 0.8270069541417069, 0.8270069541417069, 0.8270069541417069, 0.8270069541417069, 0.8270069541417069]}], \"balanced_accuracy\": [{\"categories\": [\"0\", \"1\", \"2\", \"3\", \"4\", \"5\", \"6\", \"7\", \"8\", \"9\", \"10\", \"11\", \"12\", \"13\", \"14\", \"15\", \"16\", \"17\", \"18\", \"19\", \"20\", \"21\", \"22\", \"23\", \"24\", \"25\", \"26\", \"27\", \"28\", \"29\", \"30\", \"31\", \"32\", \"33\", \"34\", \"35\", \"36\", \"37\", \"38\", \"39\", \"43\", \"44\"], \"mode\": \"markers\", \"name\": \"balanced_accuracy\", \"stepped\": false, \"type\": \"scatter\", \"data\": [0.7681904549837959, 0.7794608333140944, 0.7494902404806444, 0.7283619261069146, 0.7705214382853122, 0.7671257009774577, 0.6387080419840296, 0.7623491366564779, 0.7578444708096125, 0.7788781858442049, 0.7575722372074383, 0.7499085136654312, 0.726813864464023, 0.7438606229499023, 0.7566011815735049, 0.7604344042125181, 0.7288124160329377, 0.7468455849963876, 0.7465781535449928, 0.7614004463670849, 0.7529429071271185, 0.650119283931439, 0.7495890958364766, 0.7711691771137124, 0.7814856595128997, 0.5, 0.7622395045184586, 0.7353618738317044, 0.6704478198646372, 0.7538825401512261, 0.7521398772925281, 0.7398852279171765, 0.7498282689317254, 0.7643751810473973, 0.7636253350209279, 0.7657374966042179, 0.7787349706633957, 0.7633874111623217, 0.7758320454737334, 0.7445170929320302, 0.7871545074975005, 0.7724135454310519]}, {\"categories\": [\"0\", \"1\", \"2\", \"3\", \"4\", \"5\", \"6\", \"7\", \"8\", \"9\", \"10\", \"11\", \"12\", \"13\", \"14\", \"15\", \"16\", \"17\", \"18\", \"19\", \"20\", \"21\", \"22\", \"23\", \"24\", \"25\", \"26\", \"27\", \"28\", \"29\", \"30\", \"31\", \"32\", \"33\", \"34\", \"35\", \"36\", \"37\", \"38\", \"39\", \"43\", \"44\"], \"mode\": \"lines\", \"name\": \"balanced_accuracy_max\", \"stepped\": true, \"type\": \"scatter\", \"data\": [0.7681904549837959, 0.7794608333140944, 0.7794608333140944, 0.7794608333140944, 0.7794608333140944, 0.7794608333140944, 0.7794608333140944, 0.7794608333140944, 0.7794608333140944, 0.7794608333140944, 0.7794608333140944, 0.7794608333140944, 0.7794608333140944, 0.7794608333140944, 0.7794608333140944, 0.7794608333140944, 0.7794608333140944, 0.7794608333140944, 0.7794608333140944, 0.7794608333140944, 0.7794608333140944, 0.7794608333140944, 0.7794608333140944, 0.7794608333140944, 0.7814856595128997, 0.7814856595128997, 0.7814856595128997, 0.7814856595128997, 0.7814856595128997, 0.7814856595128997, 0.7814856595128997, 0.7814856595128997, 0.7814856595128997, 0.7814856595128997, 0.7814856595128997, 0.7814856595128997, 0.7814856595128997, 0.7814856595128997, 0.7814856595128997, 0.7814856595128997, 0.7871545074975005, 0.7871545074975005]}], \"f1_score_macro\": [{\"categories\": [\"0\", \"1\", \"2\", \"3\", \"4\", \"5\", \"6\", \"7\", \"8\", \"9\", \"10\", \"11\", \"12\", \"13\", \"14\", \"15\", \"16\", \"17\", \"18\", \"19\", \"20\", \"21\", \"22\", \"23\", \"24\", \"25\", \"26\", \"27\", \"28\", \"29\", \"30\", \"31\", \"32\", \"33\", \"34\", \"35\", \"36\", \"37\", \"38\", \"39\", \"43\", \"44\"], \"mode\": \"markers\", \"name\": \"f1_score_macro\", \"stepped\": false, \"type\": \"scatter\", \"data\": [0.7683532434395635, 0.7824839254729231, 0.7576993491549198, 0.7332737093390289, 0.7679088891608474, 0.7541411657644097, 0.6241164538531997, 0.7673357043009268, 0.7591044199001454, 0.7771355186470303, 0.7590683549833233, 0.7549373158915642, 0.7381970959529796, 0.7463538766593232, 0.7601714364032341, 0.769825808517506, 0.7371841980678543, 0.7524759898341635, 0.7528014863312865, 0.7703399743073859, 0.753325606678294, 0.6433934168327152, 0.754792227272118, 0.7746652620597362, 0.7836978081205453, 0.38074060725393644, 0.7665671339168141, 0.7449878821857864, 0.6715368850163236, 0.763492947428096, 0.7550514749148487, 0.7426191843961372, 0.7535504188477351, 0.7597672282089107, 0.761552222025683, 0.770581768295272, 0.7771115213704176, 0.7512069567804465, 0.7803532361822779, 0.7441135483070257, 0.7950338683214591, 0.7802194472389674]}, {\"categories\": [\"0\", \"1\", \"2\", \"3\", \"4\", \"5\", \"6\", \"7\", \"8\", \"9\", \"10\", \"11\", \"12\", \"13\", \"14\", \"15\", \"16\", \"17\", \"18\", \"19\", \"20\", \"21\", \"22\", \"23\", \"24\", \"25\", \"26\", \"27\", \"28\", \"29\", \"30\", \"31\", \"32\", \"33\", \"34\", \"35\", \"36\", \"37\", \"38\", \"39\", \"43\", \"44\"], \"mode\": \"lines\", \"name\": \"f1_score_macro_max\", \"stepped\": true, \"type\": \"scatter\", \"data\": [0.7683532434395635, 0.7824839254729231, 0.7824839254729231, 0.7824839254729231, 0.7824839254729231, 0.7824839254729231, 0.7824839254729231, 0.7824839254729231, 0.7824839254729231, 0.7824839254729231, 0.7824839254729231, 0.7824839254729231, 0.7824839254729231, 0.7824839254729231, 0.7824839254729231, 0.7824839254729231, 0.7824839254729231, 0.7824839254729231, 0.7824839254729231, 0.7824839254729231, 0.7824839254729231, 0.7824839254729231, 0.7824839254729231, 0.7824839254729231, 0.7836978081205453, 0.7836978081205453, 0.7836978081205453, 0.7836978081205453, 0.7836978081205453, 0.7836978081205453, 0.7836978081205453, 0.7836978081205453, 0.7836978081205453, 0.7836978081205453, 0.7836978081205453, 0.7836978081205453, 0.7836978081205453, 0.7836978081205453, 0.7836978081205453, 0.7836978081205453, 0.7950338683214591, 0.7950338683214591]}], \"AUC_micro\": [{\"categories\": [\"0\", \"1\", \"2\", \"3\", \"4\", \"5\", \"6\", \"7\", \"8\", \"9\", \"10\", \"11\", \"12\", \"13\", \"14\", \"15\", \"16\", \"17\", \"18\", \"19\", \"20\", \"21\", \"22\", \"23\", \"24\", \"25\", \"26\", \"27\", \"28\", \"29\", \"30\", \"31\", \"32\", \"33\", \"34\", \"35\", \"36\", \"37\", \"38\", \"39\", \"43\", \"44\"], \"mode\": \"markers\", \"name\": \"AUC_micro\", \"stepped\": false, \"type\": \"scatter\", \"data\": [0.8383090091918076, 0.8697322143918141, 0.8613047029784591, 0.8403362712733753, 0.8518240865177944, 0.83267441561242, 0.7967167920239928, 0.8672737096120782, 0.838451607938369, 0.8572582854987656, 0.8411513529914592, 0.8538439458256128, 0.8594241196797622, 0.8675546347890547, 0.85677348419746, 0.8740234236086252, 0.8399775052684773, 0.8535168122181039, 0.8527996852568185, 0.8728200887086972, 0.8367215009493364, 0.7993611327057085, 0.8487532151759808, 0.8581191014490528, 0.8618617881021736, 0.6161571778293892, 0.8648856604202291, 0.8588515786850408, 0.7857378134546013, 0.865365573558285, 0.8501511240720682, 0.8574278920762113, 0.8654446622350708, 0.8497373942057518, 0.8632105176866304, 0.8641273536583866, 0.8554204115709736, 0.8379477291674341, 0.8691008753653874, 0.8655651945061663, 0.8713276701352385, 0.8714636050851728]}, {\"categories\": [\"0\", \"1\", \"2\", \"3\", \"4\", \"5\", \"6\", \"7\", \"8\", \"9\", \"10\", \"11\", \"12\", \"13\", \"14\", \"15\", \"16\", \"17\", \"18\", \"19\", \"20\", \"21\", \"22\", \"23\", \"24\", \"25\", \"26\", \"27\", \"28\", \"29\", \"30\", \"31\", \"32\", \"33\", \"34\", \"35\", \"36\", \"37\", \"38\", \"39\", \"43\", \"44\"], \"mode\": \"lines\", \"name\": \"AUC_micro_max\", \"stepped\": true, \"type\": \"scatter\", \"data\": [0.8383090091918076, 0.8697322143918141, 0.8697322143918141, 0.8697322143918141, 0.8697322143918141, 0.8697322143918141, 0.8697322143918141, 0.8697322143918141, 0.8697322143918141, 0.8697322143918141, 0.8697322143918141, 0.8697322143918141, 0.8697322143918141, 0.8697322143918141, 0.8697322143918141, 0.8740234236086252, 0.8740234236086252, 0.8740234236086252, 0.8740234236086252, 0.8740234236086252, 0.8740234236086252, 0.8740234236086252, 0.8740234236086252, 0.8740234236086252, 0.8740234236086252, 0.8740234236086252, 0.8740234236086252, 0.8740234236086252, 0.8740234236086252, 0.8740234236086252, 0.8740234236086252, 0.8740234236086252, 0.8740234236086252, 0.8740234236086252, 0.8740234236086252, 0.8740234236086252, 0.8740234236086252, 0.8740234236086252, 0.8740234236086252, 0.8740234236086252, 0.8740234236086252, 0.8740234236086252]}], \"average_precision_score_weighted\": [{\"categories\": [\"0\", \"1\", \"2\", \"3\", \"4\", \"5\", \"6\", \"7\", \"8\", \"9\", \"10\", \"11\", \"12\", \"13\", \"14\", \"15\", \"16\", \"17\", \"18\", \"19\", \"20\", \"21\", \"22\", \"23\", \"24\", \"25\", \"26\", \"27\", \"28\", \"29\", \"30\", \"31\", \"32\", \"33\", \"34\", \"35\", \"36\", \"37\", \"38\", \"39\", \"43\", \"44\"], \"mode\": \"markers\", \"name\": \"average_precision_score_weighted\", \"stepped\": false, \"type\": \"scatter\", \"data\": [0.8131485806421598, 0.8564455715338021, 0.8460544297068093, 0.8397580822226655, 0.8389687920996426, 0.8383026247251474, 0.8336025469163971, 0.8420529133241443, 0.8149628562111724, 0.8515642543423066, 0.8221925181688278, 0.8373915236291506, 0.8515719447908181, 0.8550855795210934, 0.8389153705519978, 0.8504355625157588, 0.8373612769697898, 0.8341938816653929, 0.8383550463026974, 0.8450763580597226, 0.8161746798671924, 0.8104885253604438, 0.8298367960322196, 0.8338403143054682, 0.8389548410700627, 0.5312725618275325, 0.8512205799310939, 0.8481327922792271, 0.7864011838542133, 0.8444966182645726, 0.8318874635628752, 0.813126479789003, 0.8436264808402401, 0.8356375477577057, 0.8478934092575011, 0.840465630651039, 0.8471066229326987, 0.8510896810861377, 0.8430953946580588, 0.8194242922037077, 0.8531895262077993, 0.8554259602670549]}, {\"categories\": [\"0\", \"1\", \"2\", \"3\", \"4\", \"5\", \"6\", \"7\", \"8\", \"9\", \"10\", \"11\", \"12\", \"13\", \"14\", \"15\", \"16\", \"17\", \"18\", \"19\", \"20\", \"21\", \"22\", \"23\", \"24\", \"25\", \"26\", \"27\", \"28\", \"29\", \"30\", \"31\", \"32\", \"33\", \"34\", \"35\", \"36\", \"37\", \"38\", \"39\", \"43\", \"44\"], \"mode\": \"lines\", \"name\": \"average_precision_score_weighted_max\", \"stepped\": true, \"type\": \"scatter\", \"data\": [0.8131485806421598, 0.8564455715338021, 0.8564455715338021, 0.8564455715338021, 0.8564455715338021, 0.8564455715338021, 0.8564455715338021, 0.8564455715338021, 0.8564455715338021, 0.8564455715338021, 0.8564455715338021, 0.8564455715338021, 0.8564455715338021, 0.8564455715338021, 0.8564455715338021, 0.8564455715338021, 0.8564455715338021, 0.8564455715338021, 0.8564455715338021, 0.8564455715338021, 0.8564455715338021, 0.8564455715338021, 0.8564455715338021, 0.8564455715338021, 0.8564455715338021, 0.8564455715338021, 0.8564455715338021, 0.8564455715338021, 0.8564455715338021, 0.8564455715338021, 0.8564455715338021, 0.8564455715338021, 0.8564455715338021, 0.8564455715338021, 0.8564455715338021, 0.8564455715338021, 0.8564455715338021, 0.8564455715338021, 0.8564455715338021, 0.8564455715338021, 0.8564455715338021, 0.8564455715338021]}], \"recall_score_macro\": [{\"categories\": [\"0\", \"1\", \"2\", \"3\", \"4\", \"5\", \"6\", \"7\", \"8\", \"9\", \"10\", \"11\", \"12\", \"13\", \"14\", \"15\", \"16\", \"17\", \"18\", \"19\", \"20\", \"21\", \"22\", \"23\", \"24\", \"25\", \"26\", \"27\", \"28\", \"29\", \"30\", \"31\", \"32\", \"33\", \"34\", \"35\", \"36\", \"37\", \"38\", \"39\", \"43\", \"44\"], \"mode\": \"markers\", \"name\": \"recall_score_macro\", \"stepped\": false, \"type\": \"scatter\", \"data\": [0.7681904549837959, 0.7794608333140944, 0.7494902404806444, 0.7283619261069146, 0.7705214382853122, 0.7671257009774577, 0.6387080419840296, 0.7623491366564779, 0.7578444708096125, 0.7788781858442049, 0.7575722372074383, 0.7499085136654312, 0.726813864464023, 0.7438606229499023, 0.7566011815735049, 0.7604344042125181, 0.7288124160329377, 0.7468455849963876, 0.7465781535449928, 0.7614004463670849, 0.7529429071271185, 0.650119283931439, 0.7495890958364766, 0.7711691771137124, 0.7814856595128997, 0.5, 0.7622395045184586, 0.7353618738317044, 0.6704478198646372, 0.7538825401512261, 0.7521398772925281, 0.7398852279171765, 0.7498282689317254, 0.7643751810473973, 0.7636253350209279, 0.7657374966042179, 0.7787349706633957, 0.7633874111623217, 0.7758320454737334, 0.7445170929320302, 0.7871545074975005, 0.7724135454310519]}, {\"categories\": [\"0\", \"1\", \"2\", \"3\", \"4\", \"5\", \"6\", \"7\", \"8\", \"9\", \"10\", \"11\", \"12\", \"13\", \"14\", \"15\", \"16\", \"17\", \"18\", \"19\", \"20\", \"21\", \"22\", \"23\", \"24\", \"25\", \"26\", \"27\", \"28\", \"29\", \"30\", \"31\", \"32\", \"33\", \"34\", \"35\", \"36\", \"37\", \"38\", \"39\", \"43\", \"44\"], \"mode\": \"lines\", \"name\": \"recall_score_macro_max\", \"stepped\": true, \"type\": \"scatter\", \"data\": [0.7681904549837959, 0.7794608333140944, 0.7794608333140944, 0.7794608333140944, 0.7794608333140944, 0.7794608333140944, 0.7794608333140944, 0.7794608333140944, 0.7794608333140944, 0.7794608333140944, 0.7794608333140944, 0.7794608333140944, 0.7794608333140944, 0.7794608333140944, 0.7794608333140944, 0.7794608333140944, 0.7794608333140944, 0.7794608333140944, 0.7794608333140944, 0.7794608333140944, 0.7794608333140944, 0.7794608333140944, 0.7794608333140944, 0.7794608333140944, 0.7814856595128997, 0.7814856595128997, 0.7814856595128997, 0.7814856595128997, 0.7814856595128997, 0.7814856595128997, 0.7814856595128997, 0.7814856595128997, 0.7814856595128997, 0.7814856595128997, 0.7814856595128997, 0.7814856595128997, 0.7814856595128997, 0.7814856595128997, 0.7814856595128997, 0.7814856595128997, 0.7871545074975005, 0.7871545074975005]}]}, \"metricName\": null, \"primaryMetricName\": \"accuracy\", \"showLegend\": false}, \"run_metrics\": [{\"name\": \"experiment_status\", \"run_id\": \"AutoML_fa353ffa-1586-4468-9f9f-9cd78f2e9a1f\", \"categories\": [0, 1, 2, 3, 4, 5, 6, 7, 8, 9, 10, 11, 12, 13], \"series\": [{\"data\": [\"DatasetEvaluation\", \"FeaturesGeneration\", \"DatasetFeaturization\", \"DatasetFeaturizationCompleted\", \"DatasetCrossValidationSplit\", \"ModelSelection\", \"BestRunExplainModel\", \"ModelExplanationDataSetSetup\", \"PickSurrogateModel\", \"EngineeredFeatureExplanations\", \"EngineeredFeatureExplanations\", \"RawFeaturesExplanations\", \"RawFeaturesExplanations\", \"BestRunExplainModel\"]}]}, {\"name\": \"experiment_status_description\", \"run_id\": \"AutoML_fa353ffa-1586-4468-9f9f-9cd78f2e9a1f\", \"categories\": [0, 1, 2, 3, 4, 5, 6, 7, 8, 9, 10, 11, 12, 13], \"series\": [{\"data\": [\"Gathering dataset statistics.\", \"Generating features for the dataset.\", \"Beginning to fit featurizers and featurize the dataset.\", \"Completed fit featurizers and featurizing the dataset.\", \"Generating individually featurized CV splits.\", \"Beginning model selection.\", \"Best run model explanations started\", \"Model explanations data setup completed\", \"Choosing LightGBM as the surrogate model for explanations\", \"Computation of engineered features started\", \"Computation of engineered features completed\", \"Computation of raw features started\", \"Computation of raw features completed\", \"Best run model explanations completed\"]}]}, {\"name\": \"average_precision_score_macro\", \"run_id\": \"AutoML_fa353ffa-1586-4468-9f9f-9cd78f2e9a1f\", \"categories\": [0], \"series\": [{\"data\": [0.8478510347497522]}]}, {\"name\": \"f1_score_micro\", \"run_id\": \"AutoML_fa353ffa-1586-4468-9f9f-9cd78f2e9a1f\", \"categories\": [0], \"series\": [{\"data\": [0.8170422446801833]}]}, {\"name\": \"weighted_accuracy\", \"run_id\": \"AutoML_fa353ffa-1586-4468-9f9f-9cd78f2e9a1f\", \"categories\": [0], \"series\": [{\"data\": [0.8430560788243839]}]}, {\"name\": \"f1_score_weighted\", \"run_id\": \"AutoML_fa353ffa-1586-4468-9f9f-9cd78f2e9a1f\", \"categories\": [0], \"series\": [{\"data\": [0.8113541820048858]}]}, {\"name\": \"precision_score_macro\", \"run_id\": \"AutoML_fa353ffa-1586-4468-9f9f-9cd78f2e9a1f\", \"categories\": [0], \"series\": [{\"data\": [0.8244377761080314]}]}, {\"name\": \"average_precision_score_weighted\", \"run_id\": \"AutoML_fa353ffa-1586-4468-9f9f-9cd78f2e9a1f\", \"categories\": [0], \"series\": [{\"data\": [0.8531895262077993]}]}, {\"name\": \"recall_score_weighted\", \"run_id\": \"AutoML_fa353ffa-1586-4468-9f9f-9cd78f2e9a1f\", \"categories\": [0], \"series\": [{\"data\": [0.8170422446801833]}]}, {\"name\": \"precision_score_weighted\", \"run_id\": \"AutoML_fa353ffa-1586-4468-9f9f-9cd78f2e9a1f\", \"categories\": [0], \"series\": [{\"data\": [0.8252364525903862]}]}, {\"name\": \"matthews_correlation\", \"run_id\": \"AutoML_fa353ffa-1586-4468-9f9f-9cd78f2e9a1f\", \"categories\": [0], \"series\": [{\"data\": [0.6100786487735114]}]}, {\"name\": \"recall_score_micro\", \"run_id\": \"AutoML_fa353ffa-1586-4468-9f9f-9cd78f2e9a1f\", \"categories\": [0], \"series\": [{\"data\": [0.8170422446801833]}]}, {\"name\": \"average_precision_score_micro\", \"run_id\": \"AutoML_fa353ffa-1586-4468-9f9f-9cd78f2e9a1f\", \"categories\": [0], \"series\": [{\"data\": [0.8526124365242527]}]}, {\"name\": \"recall_score_macro\", \"run_id\": \"AutoML_fa353ffa-1586-4468-9f9f-9cd78f2e9a1f\", \"categories\": [0], \"series\": [{\"data\": [0.7871545074975005]}]}, {\"name\": \"log_loss\", \"run_id\": \"AutoML_fa353ffa-1586-4468-9f9f-9cd78f2e9a1f\", \"categories\": [0], \"series\": [{\"data\": [0.45379075077023134]}]}, {\"name\": \"precision_score_micro\", \"run_id\": \"AutoML_fa353ffa-1586-4468-9f9f-9cd78f2e9a1f\", \"categories\": [0], \"series\": [{\"data\": [0.8170422446801833]}]}, {\"name\": \"AUC_macro\", \"run_id\": \"AutoML_fa353ffa-1586-4468-9f9f-9cd78f2e9a1f\", \"categories\": [0], \"series\": [{\"data\": [0.8514507930498969]}]}, {\"name\": \"balanced_accuracy\", \"run_id\": \"AutoML_fa353ffa-1586-4468-9f9f-9cd78f2e9a1f\", \"categories\": [0], \"series\": [{\"data\": [0.7871545074975005]}]}, {\"name\": \"AUC_weighted\", \"run_id\": \"AutoML_fa353ffa-1586-4468-9f9f-9cd78f2e9a1f\", \"categories\": [0], \"series\": [{\"data\": [0.8514507930498969]}]}, {\"name\": \"AUC_micro\", \"run_id\": \"AutoML_fa353ffa-1586-4468-9f9f-9cd78f2e9a1f\", \"categories\": [0], \"series\": [{\"data\": [0.8713276701352385]}]}, {\"name\": \"f1_score_macro\", \"run_id\": \"AutoML_fa353ffa-1586-4468-9f9f-9cd78f2e9a1f\", \"categories\": [0], \"series\": [{\"data\": [0.7950338683214591]}]}, {\"name\": \"accuracy\", \"run_id\": \"AutoML_fa353ffa-1586-4468-9f9f-9cd78f2e9a1f\", \"categories\": [0], \"series\": [{\"data\": [0.8170422446801833]}]}, {\"name\": \"norm_macro_recall\", \"run_id\": \"AutoML_fa353ffa-1586-4468-9f9f-9cd78f2e9a1f\", \"categories\": [0], \"series\": [{\"data\": [0.574309014995001]}]}], \"run_logs\": \"\\nRun is completed.\", \"graph\": {}, \"widget_settings\": {\"childWidgetDisplay\": \"popup\", \"send_telemetry\": false, \"log_level\": \"INFO\", \"sdk_version\": \"1.20.0\"}, \"loading\": false}"
     },
     "metadata": {},
     "output_type": "display_data"
    }
   ],
   "source": [
    "RunDetails(remote_run).show()"
   ]
  },
  {
   "cell_type": "markdown",
   "metadata": {},
   "source": [
    "## Best Model\n",
    "\n",
    "TODO: In the cell below, get the best model from the automl experiments and display all the properties of the model.\n",
    "\n"
   ]
  },
  {
   "cell_type": "code",
   "execution_count": 7,
   "metadata": {
    "gather": {
     "logged": 1612418629705
    },
    "jupyter": {
     "outputs_hidden": false,
     "source_hidden": false
    },
    "nteract": {
     "transient": {
      "deleting": false
     }
    }
   },
   "outputs": [
    {
     "name": "stderr",
     "output_type": "stream",
     "text": [
      "WARNING:root:The version of the SDK does not match the version the model was trained on.\n",
      "WARNING:root:The consistency in the result may not be guaranteed.\n",
      "WARNING:root:Package:azureml-automl-core, training version:1.21.0, current version:1.20.0\n",
      "Package:azureml-automl-runtime, training version:1.21.0, current version:1.20.0\n",
      "Package:azureml-core, training version:1.21.0.post1, current version:1.20.0\n",
      "Package:azureml-dataprep, training version:2.8.2, current version:2.7.3\n",
      "Package:azureml-dataprep-native, training version:28.0.0, current version:27.0.0\n",
      "Package:azureml-dataprep-rslex, training version:1.6.0, current version:1.5.0\n",
      "Package:azureml-dataset-runtime, training version:1.21.0, current version:1.20.0\n",
      "Package:azureml-defaults, training version:1.21.0, current version:1.20.0\n",
      "Package:azureml-interpret, training version:1.21.0, current version:1.20.0\n",
      "Package:azureml-pipeline-core, training version:1.21.0, current version:1.20.0\n",
      "Package:azureml-telemetry, training version:1.21.0, current version:1.20.0\n",
      "Package:azureml-train-automl-client, training version:1.21.0, current version:1.20.0\n",
      "Package:azureml-train-automl-runtime, training version:1.21.0, current version:1.20.0\n",
      "WARNING:root:Please ensure the version of your local conda dependencies match the version on which your model was trained in order to properly retrieve your model.\n"
     ]
    },
    {
     "name": "stdout",
     "output_type": "stream",
     "text": [
      "{'_aml_system_azureml.automlComponent': 'AutoML', '_aml_system_ComputeTargetStatus': '{\"AllocationState\":\"steady\",\"PreparingNodeCount\":0,\"RunningNodeCount\":4,\"CurrentNodeCount\":4}', 'ensembled_iterations': '[24, 38, 1, 19, 15, 28, 21, 14, 11]', 'ensembled_algorithms': \"['XGBoostClassifier', 'RandomForest', 'XGBoostClassifier', 'ExtremeRandomTrees', 'ExtremeRandomTrees', 'LightGBM', 'LightGBM', 'LightGBM', 'XGBoostClassifier']\", 'ensemble_weights': '[0.07692307692307693, 0.3076923076923077, 0.15384615384615385, 0.07692307692307693, 0.07692307692307693, 0.07692307692307693, 0.07692307692307693, 0.07692307692307693, 0.07692307692307693]', 'best_individual_pipeline_score': '0.8024480572468772', 'best_individual_iteration': '24', '_aml_system_automl_is_child_run_end_telemetry_event_logged': 'True'}\n",
      "best run auto: Run(Experiment: Titanic_project,\n",
      "Id: AutoML_fa353ffa-1586-4468-9f9f-9cd78f2e9a1f_43,\n",
      "Type: azureml.scriptrun,\n",
      "Status: Completed)\n",
      "best model: Pipeline(memory=None,\n",
      "         steps=[('datatransformer',\n",
      "                 DataTransformer(enable_dnn=None, enable_feature_sweeping=None,\n",
      "                                 feature_sweeping_config=None,\n",
      "                                 feature_sweeping_timeout=None,\n",
      "                                 featurization_config=None, force_text_dnn=None,\n",
      "                                 is_cross_validation=None,\n",
      "                                 is_onnx_compatible=None, logger=None,\n",
      "                                 observer=None, task=None, working_dir=None)),\n",
      "                ('prefittedsoftvotingclassifier',...\n",
      "                                                                                               reg_lambda=1.5625,\n",
      "                                                                                               scale_pos_weight=1,\n",
      "                                                                                               seed=None,\n",
      "                                                                                               silent=None,\n",
      "                                                                                               subsample=0.5,\n",
      "                                                                                               tree_method='auto',\n",
      "                                                                                               verbose=-10,\n",
      "                                                                                               verbosity=0))],\n",
      "                                                                     verbose=False))],\n",
      "                                               flatten_transform=None,\n",
      "                                               weights=[0.07692307692307693,\n",
      "                                                        0.3076923076923077,\n",
      "                                                        0.15384615384615385,\n",
      "                                                        0.07692307692307693,\n",
      "                                                        0.07692307692307693,\n",
      "                                                        0.07692307692307693,\n",
      "                                                        0.07692307692307693,\n",
      "                                                        0.07692307692307693,\n",
      "                                                        0.07692307692307693]))],\n",
      "         verbose=False)\n"
     ]
    }
   ],
   "source": [
    "best_run_auto, best_model = remote_run.get_output()\n",
    "print(best_run_auto.get_tags())\n",
    "print(\"best run auto:\", best_run_auto)\n",
    "print(\"best model:\", best_model)"
   ]
  },
  {
   "cell_type": "markdown",
   "metadata": {},
   "source": [
    "## Model Deployment\n",
    "\n",
    "Remember you have to deploy only one of the two models you trained.. Perform the steps in the rest of this notebook only if you wish to deploy this model.\n",
    "\n",
    "TODO: In the cell below, register the model, create an inference config and deploy the model as a web service."
   ]
  },
  {
   "cell_type": "code",
   "execution_count": 8,
   "metadata": {
    "gather": {
     "logged": 1612418676019
    }
   },
   "outputs": [
    {
     "name": "stdout",
     "output_type": "stream",
     "text": [
      "Registering model titanic-survival-model\n",
      "Model(workspace=Workspace.create(name='quick-starts-ws-137178', subscription_id='9b72f9e6-56c5-4c16-991b-19c652994860', resource_group='aml-quickstarts-137178'), name=titanic-survival-model, id=titanic-survival-model:1, version=1, tags={'area': 'titanic'}, properties={})\n",
      "titanic-survival-model --- titanic-survival-model:1 --- 1\n"
     ]
    }
   ],
   "source": [
    "description = 'Titanic survival AutoML model'\n",
    "joblib.dump(value = best_model, filename = \"titanic-survival-model.pkl\")\n",
    "model = Model.register(model_name='titanic-survival-model', \n",
    "                                     description = description, \n",
    "                                     model_path = 'titanic-survival-model.pkl', \n",
    "                                     tags={'area': 'titanic'}, \n",
    "                                     model_framework=Model.Framework.SCIKITLEARN, \n",
    "                                     model_framework_version='0.20.1',\n",
    "                                     workspace = ws)\n",
    "\n",
    "print(model)\n",
    "print(model.name, model.id, model.version, sep=' --- ')"
   ]
  },
  {
   "cell_type": "code",
   "execution_count": 9,
   "metadata": {
    "gather": {
     "logged": 1612418697913
    }
   },
   "outputs": [
    {
     "name": "stdout",
     "output_type": "stream",
     "text": [
      "channels:\n",
      "- anaconda\n",
      "- conda-forge\n",
      "- pytorch\n",
      "dependencies:\n",
      "- python=3.6.2\n",
      "- pip=20.2.4\n",
      "- pip:\n",
      "  - azureml-core==1.21.0.post1\n",
      "  - azureml-pipeline-core==1.21.0\n",
      "  - azureml-telemetry==1.21.0\n",
      "  - azureml-defaults==1.21.0\n",
      "  - azureml-interpret==1.21.0\n",
      "  - azureml-automl-core==1.21.0\n",
      "  - azureml-automl-runtime==1.21.0\n",
      "  - azureml-train-automl-client==1.21.0\n",
      "  - azureml-train-automl-runtime==1.21.0.post1\n",
      "  - azureml-dataset-runtime==1.21.0\n",
      "  - inference-schema\n",
      "  - py-cpuinfo==5.0.0\n",
      "  - boto3==1.15.18\n",
      "  - botocore==1.18.18\n",
      "- numpy~=1.18.0\n",
      "- scikit-learn==0.22.1\n",
      "- pandas~=0.25.0\n",
      "- py-xgboost<=0.90\n",
      "- fbprophet==0.5\n",
      "- holidays==0.9.11\n",
      "- setuptools-git\n",
      "- psutil>5.0.0,<6.0.0\n",
      "name: azureml_7ade26eb614f97df8030bc480da59236\n",
      "\n"
     ]
    }
   ],
   "source": [
    "# create environment\n",
    "myenv = Environment.get(workspace=ws, name=\"AzureML-AutoML\")\n",
    "print(myenv.python.conda_dependencies.serialize_to_string())\n",
    "myenv.save_to_file(path='output/', overwrite=False)"
   ]
  },
  {
   "cell_type": "code",
   "execution_count": null,
   "metadata": {
    "gather": {
     "logged": 1612251936639
    }
   },
   "outputs": [],
   "source": [
    "# If one needs to add packages\n",
    "#for pip_package in [\"scikit-learn\"]:\n",
    "#    myenv.python.conda_dependencies.add_pip_package(pip_package)\n",
    "#for pip_package in [\"xgboost\"]:\n",
    "#    myenv.python.conda_dependencies.add_pip_package(pip_package)    "
   ]
  },
  {
   "cell_type": "code",
   "execution_count": 75,
   "metadata": {
    "gather": {
     "logged": 1612427693793
    }
   },
   "outputs": [],
   "source": [
    "inference_config = InferenceConfig(entry_script=\"score.py\",\n",
    "                                   environment=myenv)"
   ]
  },
  {
   "cell_type": "code",
   "execution_count": 76,
   "metadata": {
    "gather": {
     "logged": 1612427916575
    }
   },
   "outputs": [
    {
     "name": "stdout",
     "output_type": "stream",
     "text": [
      "Tips: You can try get_logs(): https://aka.ms/debugimage#dockerlog or local deployment: https://aka.ms/debugimage#debug-locally to debug if deployment takes longer than 10 minutes.\n",
      "Running..........................................\n",
      "Succeeded\n",
      "ACI service creation operation finished, operation \"Succeeded\"\n",
      "Healthy\n",
      "scoring URI: http://bfb40653-d4ec-4bce-a686-ac4ab79fd0f0.southcentralus.azurecontainer.io/score\n",
      "swagger URI: http://bfb40653-d4ec-4bce-a686-ac4ab79fd0f0.southcentralus.azurecontainer.io/swagger.json\n",
      "2021-02-04T08:38:17,581946331+00:00 - nginx/run \n",
      "2021-02-04T08:38:17,582789059+00:00 - rsyslog/run \n",
      "/usr/sbin/nginx: /azureml-envs/azureml_7ade26eb614f97df8030bc480da59236/lib/libcrypto.so.1.0.0: no version information available (required by /usr/sbin/nginx)\n",
      "/usr/sbin/nginx: /azureml-envs/azureml_7ade26eb614f97df8030bc480da59236/lib/libcrypto.so.1.0.0: no version information available (required by /usr/sbin/nginx)\n",
      "/usr/sbin/nginx: /azureml-envs/azureml_7ade26eb614f97df8030bc480da59236/lib/libssl.so.1.0.0: no version information available (required by /usr/sbin/nginx)\n",
      "/usr/sbin/nginx: /azureml-envs/azureml_7ade26eb614f97df8030bc480da59236/lib/libssl.so.1.0.0: no version information available (required by /usr/sbin/nginx)\n",
      "/usr/sbin/nginx: /azureml-envs/azureml_7ade26eb614f97df8030bc480da59236/lib/libssl.so.1.0.0: no version information available (required by /usr/sbin/nginx)\n",
      "2021-02-04T08:38:17,694436858+00:00 - iot-server/run \n",
      "rsyslogd: /azureml-envs/azureml_7ade26eb614f97df8030bc480da59236/lib/libuuid.so.1: no version information available (required by rsyslogd)\n",
      "2021-02-04T08:38:17,698613596+00:00 - gunicorn/run \n",
      "EdgeHubConnectionString and IOTEDGE_IOTHUBHOSTNAME are not set. Exiting...\n",
      "2021-02-04T08:38:17,844542831+00:00 - iot-server/finish 1 0\n",
      "2021-02-04T08:38:17,845839074+00:00 - Exit code 1 is normal. Not restarting iot-server.\n",
      "Starting gunicorn 19.9.0\n",
      "Listening at: http://127.0.0.1:31311 (19)\n",
      "Using worker: sync\n",
      "worker timeout is set to 300\n",
      "Booting worker with pid: 43\n",
      "SPARK_HOME not set. Skipping PySpark Initialization.\n",
      "Generating new fontManager, this may take some time...\n",
      "Initializing logger\n",
      "2021-02-04 08:38:19,199 | root | INFO | Starting up app insights client\n",
      "2021-02-04 08:38:19,200 | root | INFO | Starting up request id generator\n",
      "2021-02-04 08:38:19,200 | root | INFO | Starting up app insight hooks\n",
      "2021-02-04 08:38:19,200 | root | INFO | Invoking user's init function\n",
      "2021-02-04 08:38:21,377 | root | INFO | Users's init has completed successfully\n",
      "2021-02-04 08:38:21,380 | root | INFO | Skipping middleware: dbg_model_info as it's not enabled.\n",
      "2021-02-04 08:38:21,380 | root | INFO | Skipping middleware: dbg_resource_usage as it's not enabled.\n",
      "2021-02-04 08:38:21,381 | root | INFO | Scoring timeout is found from os.environ: 60000 ms\n",
      "/azureml-envs/azureml_7ade26eb614f97df8030bc480da59236/lib/python3.6/site-packages/sklearn/externals/joblib/__init__.py:15: FutureWarning: sklearn.externals.joblib is deprecated in 0.21 and will be removed in 0.23. Please import this functionality directly from joblib, which can be installed with: pip install joblib. If this warning is raised when loading pickled models, you may need to re-serialize those models with scikit-learn 0.21+.\n",
      "  warnings.warn(msg, category=FutureWarning)\n",
      "2021-02-04 08:38:34,774 | root | INFO | Swagger file not present\n",
      "2021-02-04 08:38:34,774 | root | INFO | 404\n",
      "127.0.0.1 - - [04/Feb/2021:08:38:34 +0000] \"GET /swagger.json HTTP/1.0\" 404 19 \"-\" \"Go-http-client/1.1\"\n",
      "2021-02-04 08:38:36,180 | root | INFO | Swagger file not present\n",
      "2021-02-04 08:38:36,180 | root | INFO | 404\n",
      "127.0.0.1 - - [04/Feb/2021:08:38:36 +0000] \"GET /swagger.json HTTP/1.0\" 404 19 \"-\" \"Go-http-client/1.1\"\n",
      "\n"
     ]
    }
   ],
   "source": [
    "deployment_config = AciWebservice.deploy_configuration(cpu_cores = 1,\n",
    "                                                       memory_gb = 1,\n",
    "                                                      enable_app_insights=True) #auth_enabled = True - if using authentication\n",
    "\n",
    "service = Model.deploy(\n",
    "    workspace = ws, \n",
    "    name = 'titanic-deployment-service', \n",
    "    models = [model], \n",
    "    inference_config = inference_config, \n",
    "    deployment_config = deployment_config)\n",
    "\n",
    "service.wait_for_deployment(True)\n",
    "\n",
    "print(service.state)\n",
    "print(\"scoring URI: \" + service.scoring_uri)\n",
    "print(\"swagger URI: \" + service.swagger_uri)\n",
    "print(service.get_logs())"
   ]
  },
  {
   "cell_type": "markdown",
   "metadata": {
    "collapsed": true,
    "gather": {
     "logged": 1598431657736
    },
    "jupyter": {
     "outputs_hidden": false,
     "source_hidden": false
    },
    "nteract": {
     "transient": {
      "deleting": false
     }
    }
   },
   "source": [
    "TODO: In the cell below, send a request to the web service you deployed to test it."
   ]
  },
  {
   "cell_type": "code",
   "execution_count": 80,
   "metadata": {
    "gather": {
     "logged": 1612428519386
    },
    "jupyter": {
     "outputs_hidden": false,
     "source_hidden": false
    },
    "nteract": {
     "transient": {
      "deleting": false
     }
    }
   },
   "outputs": [
    {
     "name": "stdout",
     "output_type": "stream",
     "text": [
      "Predicted: [1] Expected:0\n"
     ]
    }
   ],
   "source": [
    "scoring_uri = 'http://bfb40653-d4ec-4bce-a686-ac4ab79fd0f0.southcentralus.azurecontainer.io/score'\n",
    "# key = '2MoQ6XiUy9ejWNOATBnFIDrWnxtZGpQP'\n",
    "\n",
    "# two sets of data to score\n",
    "data = {\"data\":\n",
    "        [\n",
    "          {\n",
    "            \"Column1\": 0,\n",
    "            \"PassengerId\": 1709,\n",
    "            \"Pclass\": 1,\n",
    "            \"Sex\": 1,\n",
    "            \"Age\": 25,\n",
    "            \"SibSp\": 1,\n",
    "            \"Parch\": 0,\n",
    "            \"Fare\": 36.05,\n",
    "            \"FamilySize\": 1,\n",
    "            \"IsAlone\": 0\n",
    "          }\n",
    "      ]\n",
    "    }\n",
    "# Convert to JSON string\n",
    "input_data = json.dumps(data)\n",
    "with open(\"data.json\", \"w\") as _f:\n",
    "    _f.write(input_data)\n",
    "    \n",
    "# Set the content type\n",
    "headers = {'Content-Type': 'application/json'}\n",
    "# If authentication is enabled, set the authorization header\n",
    "# headers['Authorization'] = f'Bearer {key}'\n",
    "\n",
    "# Make the request and display the response\n",
    "resp = requests.post(scoring_uri, input_data, headers=headers)\n",
    "print(\"Predicted:\", resp.text, \"Expected:0\")"
   ]
  },
  {
   "cell_type": "markdown",
   "metadata": {
    "collapsed": true,
    "gather": {
     "logged": 1598432765711
    },
    "jupyter": {
     "outputs_hidden": false,
     "source_hidden": false
    },
    "nteract": {
     "transient": {
      "deleting": false
     }
    }
   },
   "source": [
    "TODO: In the cell below, print the logs of the web service and delete the service"
   ]
  },
  {
   "cell_type": "code",
   "execution_count": 81,
   "metadata": {
    "gather": {
     "logged": 1612428543300
    },
    "jupyter": {
     "outputs_hidden": false,
     "source_hidden": false
    },
    "nteract": {
     "transient": {
      "deleting": false
     }
    }
   },
   "outputs": [
    {
     "name": "stdout",
     "output_type": "stream",
     "text": [
      "2021-02-04T08:38:17,581946331+00:00 - nginx/run \n",
      "2021-02-04T08:38:17,582789059+00:00 - rsyslog/run \n",
      "/usr/sbin/nginx: /azureml-envs/azureml_7ade26eb614f97df8030bc480da59236/lib/libcrypto.so.1.0.0: no version information available (required by /usr/sbin/nginx)\n",
      "/usr/sbin/nginx: /azureml-envs/azureml_7ade26eb614f97df8030bc480da59236/lib/libcrypto.so.1.0.0: no version information available (required by /usr/sbin/nginx)\n",
      "/usr/sbin/nginx: /azureml-envs/azureml_7ade26eb614f97df8030bc480da59236/lib/libssl.so.1.0.0: no version information available (required by /usr/sbin/nginx)\n",
      "/usr/sbin/nginx: /azureml-envs/azureml_7ade26eb614f97df8030bc480da59236/lib/libssl.so.1.0.0: no version information available (required by /usr/sbin/nginx)\n",
      "/usr/sbin/nginx: /azureml-envs/azureml_7ade26eb614f97df8030bc480da59236/lib/libssl.so.1.0.0: no version information available (required by /usr/sbin/nginx)\n",
      "2021-02-04T08:38:17,694436858+00:00 - iot-server/run \n",
      "rsyslogd: /azureml-envs/azureml_7ade26eb614f97df8030bc480da59236/lib/libuuid.so.1: no version information available (required by rsyslogd)\n",
      "2021-02-04T08:38:17,698613596+00:00 - gunicorn/run \n",
      "EdgeHubConnectionString and IOTEDGE_IOTHUBHOSTNAME are not set. Exiting...\n",
      "2021-02-04T08:38:17,844542831+00:00 - iot-server/finish 1 0\n",
      "2021-02-04T08:38:17,845839074+00:00 - Exit code 1 is normal. Not restarting iot-server.\n",
      "Starting gunicorn 19.9.0\n",
      "Listening at: http://127.0.0.1:31311 (19)\n",
      "Using worker: sync\n",
      "worker timeout is set to 300\n",
      "Booting worker with pid: 43\n",
      "SPARK_HOME not set. Skipping PySpark Initialization.\n",
      "Generating new fontManager, this may take some time...\n",
      "Initializing logger\n",
      "2021-02-04 08:38:19,199 | root | INFO | Starting up app insights client\n",
      "2021-02-04 08:38:19,200 | root | INFO | Starting up request id generator\n",
      "2021-02-04 08:38:19,200 | root | INFO | Starting up app insight hooks\n",
      "2021-02-04 08:38:19,200 | root | INFO | Invoking user's init function\n",
      "2021-02-04 08:38:21,377 | root | INFO | Users's init has completed successfully\n",
      "2021-02-04 08:38:21,380 | root | INFO | Skipping middleware: dbg_model_info as it's not enabled.\n",
      "2021-02-04 08:38:21,380 | root | INFO | Skipping middleware: dbg_resource_usage as it's not enabled.\n",
      "2021-02-04 08:38:21,381 | root | INFO | Scoring timeout is found from os.environ: 60000 ms\n",
      "/azureml-envs/azureml_7ade26eb614f97df8030bc480da59236/lib/python3.6/site-packages/sklearn/externals/joblib/__init__.py:15: FutureWarning: sklearn.externals.joblib is deprecated in 0.21 and will be removed in 0.23. Please import this functionality directly from joblib, which can be installed with: pip install joblib. If this warning is raised when loading pickled models, you may need to re-serialize those models with scikit-learn 0.21+.\n",
      "  warnings.warn(msg, category=FutureWarning)\n",
      "2021-02-04 08:38:34,774 | root | INFO | Swagger file not present\n",
      "2021-02-04 08:38:34,774 | root | INFO | 404\n",
      "127.0.0.1 - - [04/Feb/2021:08:38:34 +0000] \"GET /swagger.json HTTP/1.0\" 404 19 \"-\" \"Go-http-client/1.1\"\n",
      "2021-02-04 08:38:36,180 | root | INFO | Swagger file not present\n",
      "2021-02-04 08:38:36,180 | root | INFO | 404\n",
      "127.0.0.1 - - [04/Feb/2021:08:38:36 +0000] \"GET /swagger.json HTTP/1.0\" 404 19 \"-\" \"Go-http-client/1.1\"\n",
      "2021-02-04 08:40:10,672 | root | INFO | Validation Request Content-Type\n",
      "2021-02-04 08:40:10,673 | root | INFO | Scoring Timer is set to 60.0 seconds\n",
      "2021-02-04 08:40:10,977 | root | INFO | 200\n",
      "127.0.0.1 - - [04/Feb/2021:08:40:10 +0000] \"POST /score HTTP/1.0\" 200 3 \"-\" \"python-requests/2.25.1\"\n",
      "2021-02-04 08:42:43,645 | root | INFO | Swagger file not present\n",
      "2021-02-04 08:42:43,645 | root | INFO | 404\n",
      "127.0.0.1 - - [04/Feb/2021:08:42:43 +0000] \"GET /swagger.json HTTP/1.0\" 404 19 \"-\" \"Go-http-client/1.1\"\n",
      "2021-02-04 08:48:16,693 | root | INFO | Validation Request Content-Type\n",
      "2021-02-04 08:48:16,694 | root | INFO | Scoring Timer is set to 60.0 seconds\n",
      "2021-02-04 08:48:16,971 | root | INFO | 200\n",
      "127.0.0.1 - - [04/Feb/2021:08:48:16 +0000] \"POST /score HTTP/1.0\" 200 3 \"-\" \"python-requests/2.25.1\"\n",
      "2021-02-04 08:48:39,025 | root | INFO | Validation Request Content-Type\n",
      "2021-02-04 08:48:39,026 | root | INFO | Scoring Timer is set to 60.0 seconds\n",
      "2021-02-04 08:48:39,347 | root | INFO | 200\n",
      "127.0.0.1 - - [04/Feb/2021:08:48:39 +0000] \"POST /score HTTP/1.0\" 200 3 \"-\" \"python-requests/2.25.1\"\n",
      "\n"
     ]
    }
   ],
   "source": [
    "# standout suggestion - logging for the deployed service\n",
    "\n",
    "logs = service.get_logs()\n",
    "\n",
    "for line in logs.split('\\n'):\n",
    "    print(line)"
   ]
  },
  {
   "cell_type": "code",
   "execution_count": 82,
   "metadata": {
    "gather": {
     "logged": 1612428561452
    }
   },
   "outputs": [],
   "source": [
    "# delete service\n",
    "service.delete()"
   ]
  }
 ],
 "metadata": {
  "kernel_info": {
   "name": "python3"
  },
  "kernelspec": {
   "display_name": "Python 3",
   "language": "python",
   "name": "python3"
  },
  "language_info": {
   "codemirror_mode": {
    "name": "ipython",
    "version": 3
   },
   "file_extension": ".py",
   "mimetype": "text/x-python",
   "name": "python",
   "nbconvert_exporter": "python",
   "pygments_lexer": "ipython3",
   "version": "3.8.5"
  },
  "nteract": {
   "version": "nteract-front-end@1.0.0"
  }
 },
 "nbformat": 4,
 "nbformat_minor": 2
}
